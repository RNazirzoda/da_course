{
 "cells": [
  {
   "cell_type": "markdown",
   "id": "25cdc6bc-8780-4987-a591-a0d09944db2f",
   "metadata": {},
   "source": []
  },
  {
   "cell_type": "markdown",
   "id": "1acf8a64-3cf0-4126-87d5-5ce743466fa7",
   "metadata": {},
   "source": []
  },
  {
   "cell_type": "markdown",
   "id": "06f5e9dc-596b-4675-b9d3-07ccbe728001",
   "metadata": {},
   "source": []
  },
  {
   "cell_type": "code",
   "execution_count": 34,
   "id": "96d190a6",
   "metadata": {},
   "outputs": [],
   "source": [
    "\n"
   ]
  },
  {
   "cell_type": "markdown",
   "id": "804b7e20",
   "metadata": {},
   "source": [
    "### Блок 2. Аналитические задачи"
   ]
  },
  {
   "cell_type": "markdown",
   "id": "b8c8a4e1",
   "metadata": {},
   "source": [
    "#### Секция 1. Анализ клиентов"
   ]
  },
  {
   "cell_type": "markdown",
   "id": "84cdd19c",
   "metadata": {},
   "source": [
    "**1. Сегментация по доходу:** Посчитайте средний годовой личный доход клиентов (YearlyIncome) в разбивке по роду деятельности (Occupation). Итоговая таблица должна содержать следующие поля: occupation, number_of_customers, avg_income."
   ]
  },
  {
   "cell_type": "code",
   "execution_count": null,
   "id": "419b092b",
   "metadata": {},
   "outputs": [],
   "source": [
    "select \n",
    "    occupation,\n",
    "    count(*) as number_of_customers,\n",
    "    round(avg(yearly_income), 2) as avg_income\n",
    "from adv_works.customers\n",
    "group by \n",
    "\toccupation\n",
    "order by \n",
    "\tavg_income desc;"
   ]
  },
  {
   "cell_type": "markdown",
   "id": "e3ba9f54",
   "metadata": {},
   "source": [
    "**2. Семейный профиль:** Посчитайте долю (в процентах) клиентов с детьми и долю клиентов без детей. Итоговая таблица должна содержать следующие поля: has_children (где 1 означает - имеет детей и 0 - не имеет детей), pct_of_customer_base."
   ]
  },
  {
   "cell_type": "code",
   "execution_count": null,
   "id": "be44afbc",
   "metadata": {},
   "outputs": [],
   "source": [
    "select \n",
    "    has_children,\n",
    "    round(100.0 * count(*) / total.count, 2) as pct_of_customer_base\n",
    "from (\n",
    "    select \n",
    "        case \n",
    "            when number_of_children > 0 then 1\n",
    "            else 0\n",
    "        end as has_children\n",
    "    from adv_works.customers\n",
    ") as subquery,\n",
    "(\n",
    "    select count(*) as count from adv_works.customers\n",
    ") as total\n",
    "group by \n",
    "\thas_children, total.count;"
   ]
  },
  {
   "cell_type": "markdown",
   "id": "62d9c9c6",
   "metadata": {},
   "source": [
    "**3. Высокодоходные клиенты:** Сформируйте список топ 10 клиентов с наибольшей суммой покупок (поле SalesAmount). Итоговая таблица должна содержать следующие поля: customer_key, customer_name, total_purchase."
   ]
  },
  {
   "cell_type": "code",
   "execution_count": null,
   "id": "6a998305",
   "metadata": {},
   "outputs": [],
   "source": [
    "select \n",
    "    c.customer_key,\n",
    "    c.full_name,\n",
    "    round(sum(s.sales_amount), 2) as total_purchase\n",
    "from adv_works.customers c\n",
    "join adv_works.sales s \n",
    "\ton c.customer_key = s.customer_key\n",
    "group by \n",
    "\tc.customer_key, c.full_name\n",
    "order by \n",
    "\ttotal_purchase desc\n",
    "limit 10;"
   ]
  },
  {
   "cell_type": "markdown",
   "id": "abba9bab",
   "metadata": {},
   "source": [
    "**4. Влияние семейного положения:** Посчитайте среднюю сумму продаж в разбивке по семейному положению клиентов (MaritalStatus) и определите насколько сильно различаются средние суммы между двумя группами. Итоговая таблица должна содержать следующие поля: year, marital_status, avg_sales_amount."
   ]
  },
  {
   "cell_type": "code",
   "execution_count": null,
   "id": "9a62b1fd",
   "metadata": {},
   "outputs": [],
   "source": [
    "select \n",
    "    extract(year from s.order_date) as year,\n",
    "    c.marital_status,\n",
    "    round(avg(s.sales_amount), 2) as avg_sales_amount\n",
    "from adv_works.customers c\n",
    "join adv_works.sales s \n",
    "\ton c.customer_key = s.customer_key\n",
    "group by year, c.marital_status\n",
    "order by year, avg_sales_amount desc;"
   ]
  },
  {
   "cell_type": "markdown",
   "id": "fbcc34dd",
   "metadata": {},
   "source": [
    "#### Секция 2. Анализ продаж"
   ]
  },
  {
   "cell_type": "markdown",
   "id": "1f348894",
   "metadata": {},
   "source": [
    "**1. Ежемесячные продажи:** Создайте отчёт продаж по месяцам за последние 2 года (2003, 2004). Итоговая таблица должна содержать следующие поля: year, monthkey, month_name, sales_count (количество продаж), sales_amount."
   ]
  },
  {
   "cell_type": "code",
   "execution_count": null,
   "id": "8c5824dc",
   "metadata": {},
   "outputs": [],
   "source": [
    "select \n",
    "    extract(year from s.order_date) as year,\n",
    "    to_char(s.order_date, 'YYYYMM') as monthkey,\n",
    "    to_char(s.order_date, 'Month') as month_name,\n",
    "    count(*) as sales_count,\n",
    "    round(sum(s.sales_amount), 2) as sales_amount\n",
    "from adv_works.sales s\n",
    "where extract(year from s.order_date) in (2001, 2002, 2003, 2004)\n",
    "group by year, monthkey, month_name\n",
    "order by year, monthkey;"
   ]
  },
  {
   "cell_type": "markdown",
   "id": "dd7cb767",
   "metadata": {},
   "source": [
    "**2.Продажи по регионам:** Посчитайте сумму продаж в разбивке по регионам. Итоговая таблица должна содержать следующие поля: region, sales_count, sales_amount."
   ]
  },
  {
   "cell_type": "code",
   "execution_count": null,
   "id": "55f6eb19",
   "metadata": {},
   "outputs": [],
   "source": [
    "select \n",
    "    t.region,\n",
    "    count(*) as sales_count,\n",
    "    round(sum(s.sales_amount), 2) as sales_amount\n",
    "from adv_works.sales s\n",
    "join adv_works.territory t on s.territory_key = t.territory_key\n",
    "group by t.region\n",
    "order by sales_amount desc;"
   ]
  },
  {
   "cell_type": "markdown",
   "id": "cf637ece",
   "metadata": {},
   "source": [
    "#### Секция 3. Анализ продуктов"
   ]
  },
  {
   "cell_type": "markdown",
   "id": "475ab345",
   "metadata": {},
   "source": [
    "**1. Доля продаж:** Посчитайте какую долю от общих продаж составляет каждая категория продуктов. Итоговая таблица должна содержать следующие поля: year, product_key, product_category_key, english_product_category_name, sales_amount, pct_of_total_sales."
   ]
  },
  {
   "cell_type": "code",
   "execution_count": null,
   "id": "1d969a01",
   "metadata": {},
   "outputs": [],
   "source": [
    "select \n",
    "    extract(year from s.order_date) as year,\n",
    "    p.product_key,\n",
    "    pc.category_key as product_category_key,\n",
    "    pc.category_name,\n",
    "    round(sum(s.sales_amount), 2) as sales_amount,\n",
    "    round(100.0 * sum(s.sales_amount) / total.total_sales, 2) as pct_of_total_sales\n",
    "from adv_works.sales s\n",
    "join adv_works.products p on s.product_key = p.product_key\n",
    "join adv_works.product_subcategory psc on p.subcategory_key = psc.subcategory_key\n",
    "join adv_works.product_category pc on psc.category_key = pc.category_key\n",
    "cross join (\n",
    "    select sum(sales_amount) as total_sales from adv_works.sales\n",
    ") as total\n",
    "group by year, p.product_key, pc.category_key, pc.category_name, total.total_sales\n",
    "order by year, pct_of_total_sales desc;"
   ]
  },
  {
   "cell_type": "markdown",
   "id": "817cb600",
   "metadata": {},
   "source": [
    "**2. Самые продаваемые продукты:** Определите топ 5 продуктов с наибольшей суммой продаж. Итоговая таблица должна содержать следующие поля: product_key, product_name, english_product_category_name, sales_amount"
   ]
  },
  {
   "cell_type": "code",
   "execution_count": null,
   "id": "55be826e",
   "metadata": {},
   "outputs": [],
   "source": [
    "select \n",
    "    p.product_key,\n",
    "    p.product_name,\n",
    "    pc.category_name,\n",
    "    round(sum(s.sales_amount), 2) as sales_amount\n",
    "from adv_works.sales s\n",
    "join adv_works.products p on s.product_key = p.product_key\n",
    "join adv_works.product_subcategory psc on p.subcategory_key = psc.subcategory_key\n",
    "join adv_works.product_category pc on psc.category_key = pc.category_key\n",
    "group by p.product_key, p.product_name, pc.category_name\n",
    "order by sales_amount desc\n",
    "limit 5;"
   ]
  },
  {
   "cell_type": "markdown",
   "id": "79566065",
   "metadata": {},
   "source": [
    "**3. Маржа от продаж:** Посчитайте разницу между суммой продаж (SalesAmount) за минусом себестоимости (TotalProductCost), налогов (*TaxAmt) и расходов на доставку (Freight) по каждому продукту в разбивке по годам и месяцам. Итоговая таблица должна содержать следующие поля: year, monthkey, month_name, product_key, product_name, sales_amount, total_product_cost, tax_amt, freight, margin, margin_pct (маржа как процент от суммы продаж)."
   ]
  },
  {
   "cell_type": "code",
   "execution_count": null,
   "id": "128ddfce",
   "metadata": {},
   "outputs": [],
   "source": [
    "select \n",
    "    extract(year from s.order_date) as year,\n",
    "    to_char(s.order_date, 'YYYYMM') as monthkey,\n",
    "    to_char(s.order_date, 'Month') as month_name,\n",
    "    p.product_key,\n",
    "    p.product_name,\n",
    "    round(sum(s.sales_amount), 2) as sales_amount,\n",
    "    round(sum(s.total_product_cost), 2) as total_product_cost,\n",
    "    round(sum(s.tax_amount), 2) as tax_amt,\n",
    "    round(sum(s.freight), 2) as freight,\n",
    "    round(sum(\n",
    "    \ts.sales_amount - s.total_product_cost - s.tax_amount - s.freight\n",
    "    \t), 2) as margin,\n",
    "    round(100.0 * sum(\n",
    "    \t\t\t\ts.sales_amount - s.total_product_cost - s.tax_amount - s.freight\n",
    "    \t\t\t\t) / sum(\n",
    "    \t\t\t\ts.sales_amount\n",
    "    \t\t\t\t), 2) as margin_pct\n",
    "from adv_works.sales s\n",
    "join adv_works.products p on s.product_key = p.product_key\n",
    "group by year, monthkey, month_name, p.product_key, p.product_name\n",
    "order by year, monthkey, margin desc;"
   ]
  },
  {
   "cell_type": "markdown",
   "id": "215e024f",
   "metadata": {},
   "source": [
    "#### Секция 4. Анализ трендов"
   ]
  },
  {
   "cell_type": "markdown",
   "id": "193d041c",
   "metadata": {},
   "source": [
    "**1. Квартальный рост:** Посчитайте сумму продаж за каждый квартал и их процентное изменение по топ 2 наиболее продаваемым категориям. Итоговая таблица должна содержать следующие поля: year, quarter_id, product_category_key, english_product_category_name, quarter_sales_amount, quarter_over_quarter_growth_pct."
   ]
  },
  {
   "cell_type": "code",
   "execution_count": null,
   "id": "cfa8344e",
   "metadata": {},
   "outputs": [],
   "source": []
  },
  {
   "cell_type": "markdown",
   "id": "014420f5",
   "metadata": {},
   "source": [
    "**2. Сравнение будних и выходных (суббота, воскресенье) дней:** Посчитайте продажи в разбивке по годам и дням недели. Определите в какие дни в среднем сумма продаж больше. Определите является ли сумма продаж больше в будние или выходные дни. Итоговая таблица должна содержать следующие поля: year, day_name, is_weekend (где 1 означает выходной а 0 будний день), sales_amount."
   ]
  },
  {
   "cell_type": "markdown",
   "id": "ee47a4bf-4b07-450c-bdcb-3b2d6d22fe77",
   "metadata": {},
   "source": [
    "## Case Study по модулю SQL\n",
    "### Назирзода Рахимджон 04-03-2025"
   ]
  },
  {
   "cell_type": "markdown",
   "id": "b8dc73b7-562b-425e-b547-1899510e569b",
   "metadata": {},
   "source": [
    "### Блок 1. Создание схемы и таблиц"
   ]
  },
  {
   "cell_type": "markdown",
   "id": "8b86f8f2-0771-4626-ab26-4727a4787f44",
   "metadata": {},
   "source": [
    "**1.В базе данных создайте новую схему adv_works.**\n",
    "\n",
    "**2.На основе данных из файла создайте в схеме adv_works таблицы и соедините их между собою по основным и внешним ключам.**"
   ]
  },
  {
   "cell_type": "code",
   "execution_count": 4,
   "id": "fefb2773-9a96-4f49-81f9-8fd565b7f17e",
   "metadata": {},
   "outputs": [
    {
     "ename": "ModuleNotFoundError",
     "evalue": "No module named 'connect'",
     "output_type": "error",
     "traceback": [
      "\u001b[1;31m---------------------------------------------------------------------------\u001b[0m",
      "\u001b[1;31mModuleNotFoundError\u001b[0m                       Traceback (most recent call last)",
      "Cell \u001b[1;32mIn[4], line 6\u001b[0m\n\u001b[0;32m      3\u001b[0m \u001b[38;5;28;01mfrom\u001b[39;00m \u001b[38;5;21;01msqlalchemy\u001b[39;00m \u001b[38;5;28;01mimport\u001b[39;00m text\n\u001b[0;32m      4\u001b[0m \u001b[38;5;66;03m#from sqlalchemy.engine.url import URL\u001b[39;00m\n\u001b[1;32m----> 6\u001b[0m \u001b[38;5;28;01mfrom\u001b[39;00m \u001b[38;5;21;01mconnect\u001b[39;00m \u001b[38;5;28;01mimport\u001b[39;00m set_connection\n",
      "\u001b[1;31mModuleNotFoundError\u001b[0m: No module named 'connect'"
     ]
    }
   ],
   "source": [
    "import json\n",
    "import pandas as pd\n",
    "from sqlalchemy import text\n",
    "#from sqlalchemy.engine.url import URL\n",
    "\n",
    "from connect import set_connection"
   ]
  },
  {
   "cell_type": "code",
   "execution_count": 37,
   "id": "8ad296a3",
   "metadata": {},
   "outputs": [],
   "source": [
    "SCHEMA = \"adv_works\""
   ]
  },
  {
   "cell_type": "code",
   "execution_count": 35,
   "id": "0918032c",
   "metadata": {},
   "outputs": [],
   "source": [
    "def create_tables():\n",
    "    try:\n",
    "        \n",
    "        with open('queries/cas_study_on_sql.sql', encoding='utf-8') as f:\n",
    "            tables_query = f.read()\n",
    "        \n",
    "        # создаём схему и таблицы\n",
    "        with set_connection() as psg:\n",
    "            psg.execute(text(tables_query))\n",
    "            psg.commit()\n",
    "        \n",
    "        print(\"Tables created successfully\")\n",
    "    except Exception as e:\n",
    "        print(e)"
   ]
  },
  {
   "cell_type": "code",
   "execution_count": 36,
   "id": "7757f5b9",
   "metadata": {},
   "outputs": [
    {
     "name": "stdout",
     "output_type": "stream",
     "text": [
      "Tables created successfully\n"
     ]
    }
   ],
   "source": [
    "create_tables()"
   ]
  },
  {
   "cell_type": "code",
   "execution_count": 38,
   "id": "307f8360",
   "metadata": {},
   "outputs": [],
   "source": [
    "def read_xl(sheet_name, columns_dict):\n",
    "    temp_df = pd.read_excel(\n",
    "        'adventure_works.xlsx',\n",
    "        sheet_name=sheet_name,\n",
    "        usecols=columns_dict.keys()\n",
    "    ).rename(columns=columns_dict)\n",
    "    return temp_df"
   ]
  },
  {
   "cell_type": "code",
   "execution_count": 39,
   "id": "f70afdd7",
   "metadata": {},
   "outputs": [],
   "source": [
    "with open('columns.json') as f:\n",
    "    tables_dict = json.load(f) "
   ]
  },
  {
   "cell_type": "code",
   "execution_count": 40,
   "id": "ca98f435",
   "metadata": {},
   "outputs": [],
   "source": [
    "def insert_to_db(temp_df, tbl_name):\n",
    "    with set_connection() as psg:\n",
    "        temp_df.to_sql(\n",
    "            schema=SCHEMA,\n",
    "            name=tbl_name,\n",
    "            con=psg,\n",
    "            index=False,\n",
    "            if_exists='append'\n",
    "        )"
   ]
  },
  {
   "cell_type": "code",
   "execution_count": 41,
   "id": "44bc2699",
   "metadata": {},
   "outputs": [],
   "source": [
    "def etl(sheet_name, columns_dict, tbl_name):\n",
    "    print(f\"inserting data to {tbl_name}...\")\n",
    "    temp_df = read_xl(sheet_name, columns_dict)\n",
    "    insert_to_db(temp_df, tbl_name)"
   ]
  },
  {
   "cell_type": "code",
   "execution_count": 42,
   "id": "a30f9814",
   "metadata": {},
   "outputs": [
    {
     "name": "stdout",
     "output_type": "stream",
     "text": [
      "inserting data to customers...\n",
      "inserting data to territory...\n",
      "inserting data to product_category...\n",
      "inserting data to product_subcategory...\n",
      "inserting data to products...\n",
      "inserting data to sales...\n"
     ]
    }
   ],
   "source": [
    "for k, v in tables_dict.items():\n",
    "    etl(k, v[\"columns\"], v[\"table_name\"])"
   ]
  },
  {
   "cell_type": "code",
   "execution_count": null,
   "id": "ea501fc2",
   "metadata": {},
   "outputs": [],
   "source": []
  },
  {
   "cell_type": "code",
   "execution_count": null,
   "id": "ec301288",
   "metadata": {},
   "outputs": [],
   "source": []
  },
  {
   "cell_type": "code",
   "execution_count": null,
   "id": "74b979dd",
   "metadata": {},
   "outputs": [],
   "source": []
  },
  {
   "cell_type": "code",
   "execution_count": null,
   "id": "a643088e",
   "metadata": {},
   "outputs": [],
   "source": []
  },
  {
   "cell_type": "code",
   "execution_count": null,
   "id": "0b2af98a",
   "metadata": {},
   "outputs": [],
   "source": []
  },
  {
   "cell_type": "code",
   "execution_count": null,
   "id": "84858c4e",
   "metadata": {},
   "outputs": [],
   "source": []
  },
  {
   "cell_type": "code",
   "execution_count": null,
   "id": "5051bc8b",
   "metadata": {},
   "outputs": [],
   "source": []
  },
  {
   "cell_type": "code",
   "execution_count": null,
   "id": "941a0457",
   "metadata": {},
   "outputs": [],
   "source": []
  },
  {
   "cell_type": "code",
   "execution_count": null,
   "id": "a573b3b3",
   "metadata": {},
   "outputs": [],
   "source": []
  },
  {
   "cell_type": "code",
   "execution_count": null,
   "id": "c221437a",
   "metadata": {},
   "outputs": [],
   "source": []
  },
  {
   "cell_type": "code",
   "execution_count": null,
   "id": "78b3106c",
   "metadata": {},
   "outputs": [],
   "source": []
  },
  {
   "cell_type": "code",
   "execution_count": null,
   "id": "3102ea67",
   "metadata": {},
   "outputs": [],
   "source": []
  },
  {
   "cell_type": "code",
   "execution_count": null,
   "id": "4cf6b29f",
   "metadata": {},
   "outputs": [],
   "source": []
  },
  {
   "cell_type": "code",
   "execution_count": null,
   "id": "f4becdf0-e03b-44b2-970a-499a943c3ec7",
   "metadata": {},
   "outputs": [],
   "source": []
  },
  {
   "cell_type": "code",
   "execution_count": null,
   "id": "5020ef2a-9edd-4321-a072-bc02eb30ef0b",
   "metadata": {},
   "outputs": [],
   "source": []
  },
  {
   "cell_type": "code",
   "execution_count": null,
   "id": "b35900ca-7ed7-4d71-ba89-244260b0ce09",
   "metadata": {},
   "outputs": [],
   "source": []
  }
 ],
 "metadata": {
  "kernelspec": {
   "display_name": "Python 3 (ipykernel)",
   "language": "python",
   "name": "python3"
  },
  "language_info": {
   "codemirror_mode": {
    "name": "ipython",
    "version": 3
   },
   "file_extension": ".py",
   "mimetype": "text/x-python",
   "name": "python",
   "nbconvert_exporter": "python",
   "pygments_lexer": "ipython3",
   "version": "3.12.7"
  }
 },
 "nbformat": 4,
 "nbformat_minor": 5
}
