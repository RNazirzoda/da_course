{
 "cells": [
  {
   "cell_type": "markdown",
   "id": "5a7cf6d7-e126-4a4f-abca-8cfc00d700b7",
   "metadata": {},
   "source": [
    "**Назирзода Рахимджон**"
   ]
  },
  {
   "cell_type": "code",
   "execution_count": 2,
   "id": "75fcf1e7-89c9-4caf-832a-b4a3ab1dc607",
   "metadata": {},
   "outputs": [],
   "source": [
    "import numpy as np\n",
    "import random as rn\n",
    "import matplotlib.pyplot as plt"
   ]
  },
  {
   "cell_type": "markdown",
   "id": "fd94bf7f-06a0-4511-814c-57569914fb1a",
   "metadata": {},
   "source": [
    "**Задача 1**"
   ]
  },
  {
   "cell_type": "code",
   "execution_count": 4,
   "id": "428a652a-d1fd-4824-9d70-b96bf0a145f3",
   "metadata": {},
   "outputs": [],
   "source": [
    "total_cards = 52\n",
    "\n",
    "aces = 4\n",
    "\n",
    "probability_of_ace = aces / total_cards"
   ]
  },
  {
   "cell_type": "code",
   "execution_count": 6,
   "id": "82dbcfcc-7bf2-4d51-be2a-229ba8ab3f02",
   "metadata": {},
   "outputs": [
    {
     "data": {
      "text/plain": [
       "0.07692307692307693"
      ]
     },
     "execution_count": 6,
     "metadata": {},
     "output_type": "execute_result"
    }
   ],
   "source": [
    "probability_of_ace"
   ]
  },
  {
   "cell_type": "markdown",
   "id": "21d1c203-2f8c-498a-b266-3e51e70030ff",
   "metadata": {},
   "source": [
    "**Задача 2**"
   ]
  },
  {
   "cell_type": "code",
   "execution_count": 10,
   "id": "de34577f-be10-4e9b-b54e-cd45f3443559",
   "metadata": {},
   "outputs": [],
   "source": [
    "prob_O = 0.4\n",
    "prob_A = 0.3\n",
    "prob_B = 0.2\n",
    "prob_AB = 0.1\n",
    "\n",
    "prob_all_O = prob_O ** 3\n",
    "prob_all_A = prob_A ** 3\n",
    "prob_all_B = prob_B ** 3\n",
    "prob_all_AB = prob_AB ** 3\n",
    "\n",
    "\n",
    "total_probability = prob_all_O + prob_all_A + prob_all_B + prob_all_AB"
   ]
  },
  {
   "cell_type": "code",
   "execution_count": 12,
   "id": "b33d84c6-e7e1-400e-9173-e88c9f3ec278",
   "metadata": {},
   "outputs": [
    {
     "data": {
      "text/plain": [
       "0.10000000000000002"
      ]
     },
     "execution_count": 12,
     "metadata": {},
     "output_type": "execute_result"
    }
   ],
   "source": [
    "total_probability"
   ]
  },
  {
   "cell_type": "markdown",
   "id": "053a56ce-f360-4de8-816f-775de704e0c4",
   "metadata": {},
   "source": [
    "**Задача 3**"
   ]
  },
  {
   "cell_type": "code",
   "execution_count": 15,
   "id": "292de3c3-ab97-4cac-b71e-a5ee52f40cb8",
   "metadata": {},
   "outputs": [],
   "source": [
    "prob_wrong = 0.75\n",
    "\n",
    "num_questions = 30\n",
    "\n",
    "prob_all_wrong = prob_wrong ** num_questions\n",
    "\n",
    "prob_at_least_one_correct = 1 - prob_all_wrong"
   ]
  },
  {
   "cell_type": "code",
   "execution_count": 17,
   "id": "c95b8571-ac10-4e9e-bbbd-8ff62ca4a586",
   "metadata": {},
   "outputs": [
    {
     "data": {
      "text/plain": [
       "0.99982141790983"
      ]
     },
     "execution_count": 17,
     "metadata": {},
     "output_type": "execute_result"
    }
   ],
   "source": [
    "prob_at_least_one_correct"
   ]
  },
  {
   "cell_type": "markdown",
   "id": "ad4d70ec-4eaa-487f-8a59-538949b14eb6",
   "metadata": {},
   "source": [
    "**Задача 4**"
   ]
  },
  {
   "cell_type": "code",
   "execution_count": 20,
   "id": "df733a0f-abeb-40e9-9300-de939b34483d",
   "metadata": {},
   "outputs": [],
   "source": [
    "prob_not_match = 11 / 12\n",
    "\n",
    "prob_both_not_match = prob_not_match * prob_not_match\n",
    "\n",
    "prob_at_least_one_match = 1 - prob_both_not_match"
   ]
  },
  {
   "cell_type": "code",
   "execution_count": 22,
   "id": "c9c7fb11-05a8-4b34-9a45-ba70a8951260",
   "metadata": {},
   "outputs": [
    {
     "data": {
      "text/plain": [
       "0.15972222222222232"
      ]
     },
     "execution_count": 22,
     "metadata": {},
     "output_type": "execute_result"
    }
   ],
   "source": [
    "prob_at_least_one_match"
   ]
  },
  {
   "cell_type": "markdown",
   "id": "59f2d1bf-dbea-47a9-a907-5bf633d78364",
   "metadata": {},
   "source": [
    "**Задача 5**"
   ]
  },
  {
   "cell_type": "code",
   "execution_count": 25,
   "id": "6896480c-6e25-426d-8cc0-fb442e454207",
   "metadata": {},
   "outputs": [],
   "source": [
    "total_cards = 52\n",
    "\n",
    "jacks = 4\n",
    "spades = 13\n",
    "jack_of_spades = 1\n",
    "\n",
    "probability = (jacks + spades - jack_of_spades) / total_cards"
   ]
  },
  {
   "cell_type": "code",
   "execution_count": 27,
   "id": "e23be18b-ce57-415f-9844-66e17dc54031",
   "metadata": {},
   "outputs": [
    {
     "data": {
      "text/plain": [
       "0.3076923076923077"
      ]
     },
     "execution_count": 27,
     "metadata": {},
     "output_type": "execute_result"
    }
   ],
   "source": [
    "probability"
   ]
  },
  {
   "cell_type": "code",
   "execution_count": null,
   "id": "71c1b2d9-aac2-4353-ba5b-bb0b4751126e",
   "metadata": {},
   "outputs": [],
   "source": []
  },
  {
   "cell_type": "code",
   "execution_count": null,
   "id": "01c1bc02-66a1-4979-853d-dfdc6dc79fee",
   "metadata": {},
   "outputs": [],
   "source": []
  },
  {
   "cell_type": "code",
   "execution_count": null,
   "id": "ca4f9439-5594-4777-8e76-8f780b9ca2c7",
   "metadata": {},
   "outputs": [],
   "source": []
  },
  {
   "cell_type": "code",
   "execution_count": null,
   "id": "ae8fb2b6-3461-4452-83f1-2247e3cf717f",
   "metadata": {},
   "outputs": [],
   "source": []
  },
  {
   "cell_type": "code",
   "execution_count": null,
   "id": "1a175f8c-4e10-4774-a83f-1c73df82d540",
   "metadata": {},
   "outputs": [],
   "source": []
  },
  {
   "cell_type": "code",
   "execution_count": null,
   "id": "fe73fb6e-9513-4859-b463-46b76ab9503a",
   "metadata": {},
   "outputs": [],
   "source": []
  },
  {
   "cell_type": "code",
   "execution_count": null,
   "id": "d44243f7-4c3a-483c-9d20-c6eead800f27",
   "metadata": {},
   "outputs": [],
   "source": []
  }
 ],
 "metadata": {
  "kernelspec": {
   "display_name": "Python 3 (ipykernel)",
   "language": "python",
   "name": "python3"
  },
  "language_info": {
   "codemirror_mode": {
    "name": "ipython",
    "version": 3
   },
   "file_extension": ".py",
   "mimetype": "text/x-python",
   "name": "python",
   "nbconvert_exporter": "python",
   "pygments_lexer": "ipython3",
   "version": "3.12.7"
  }
 },
 "nbformat": 4,
 "nbformat_minor": 5
}
