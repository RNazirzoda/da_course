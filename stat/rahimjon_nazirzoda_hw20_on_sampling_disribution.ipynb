{
 "cells": [
  {
   "cell_type": "markdown",
   "id": "0c7a5fde-1de1-484f-9780-40f369bcc632",
   "metadata": {},
   "source": [
    "# Выборочные распределения"
   ]
  },
  {
   "cell_type": "markdown",
   "id": "295f6638-742b-46d8-bdb6-18ae909dba2e",
   "metadata": {},
   "source": [
    "**Рахимджон Назирзода**"
   ]
  },
  {
   "cell_type": "code",
   "execution_count": 1,
   "id": "5b4bc9a5-7381-4951-ba49-021753e76de3",
   "metadata": {},
   "outputs": [],
   "source": [
    "import numpy as np\n",
    "import seaborn as sns\n",
    "import matplotlib.pyplot as plt\n",
    "from scipy.stats import norm\n",
    "import pandas as pd\n",
    "import math"
   ]
  },
  {
   "cell_type": "markdown",
   "id": "7b4a9c44-375b-4ba3-8591-7d999498ad40",
   "metadata": {},
   "source": [
    "**Задача 1:**\n",
    "Имеется следующая выборка [6, 8, 11, 11, 17, 21, 34, 35, 41, 42, 43, 46, 54, 54, 59, 62], где каждое наблюдение это возраст человека. Какова точечная оценка среднего значения и стандартного отклонения популяции?"
   ]
  },
  {
   "cell_type": "code",
   "execution_count": 12,
   "id": "509098ea-3403-4348-a049-967866141e4d",
   "metadata": {},
   "outputs": [
    {
     "name": "stdout",
     "output_type": "stream",
     "text": [
      "34.0\n",
      "19.19027531503044\n"
     ]
    }
   ],
   "source": [
    "ages = np.array([6, 8, 11, 11, 17, 21, 34, 35, 41, 42, 43, 46, 54, 54, 59, 62])\n",
    "\n",
    "mean = np.mean(ages)\n",
    "\n",
    "std = np.std(ages, ddof=1)\n",
    "\n",
    "print(mean) \n",
    "print(std)"
   ]
  },
  {
   "cell_type": "markdown",
   "id": "37bf589c-8522-4f1e-bd3b-137161cf5e32",
   "metadata": {},
   "source": [
    "**Задача 2:**\n",
    "24% всех производимых шоколадных драже M&M's красятся в синий цвет. В стандартном пакете чаще всего содержится 17 драже. Какова вероятность, что в купленном вами в магазине пакетике, доля синих драже будет больше 40%?"
   ]
  },
  {
   "cell_type": "code",
   "execution_count": 18,
   "id": "583001e9-27e8-4eec-be30-ab2a63ab4e7f",
   "metadata": {},
   "outputs": [
    {
     "name": "stdout",
     "output_type": "stream",
     "text": [
      "0.08467578474501347\n"
     ]
    }
   ],
   "source": [
    "n = 17\n",
    "p = 0.24\n",
    "\n",
    "mu = n * p\n",
    "sigma = (n * p * (1 - p)) ** 0.5\n",
    "\n",
    "\n",
    "z = (6.5 - mu) / sigma\n",
    "\n",
    "p_x_geq_7_norm = 1 - norm.cdf(z)\n",
    "\n",
    "print(p_x_geq_7_norm)"
   ]
  },
  {
   "cell_type": "markdown",
   "id": "13a96832-96ea-4139-8cd2-d657210985c5",
   "metadata": {},
   "source": [
    "**Задача 3:**\n",
    "64 мужчины были выбраны случайным образом и их веса были измерены. Среднее значение выборки составило 84 кг, а стандартное отклонение - 24 кг. Рассчитайте доверительный интервал для среднего значения популяции с 90%-м уровнем доверия."
   ]
  },
  {
   "cell_type": "code",
   "execution_count": 3,
   "id": "d0071867-ca1f-492a-87d1-67ff53896500",
   "metadata": {},
   "outputs": [
    {
     "name": "stdout",
     "output_type": "stream",
     "text": [
      "79.06543911914558\n",
      "88.93456088085442\n"
     ]
    }
   ],
   "source": [
    "import scipy.stats as stats\n",
    "\n",
    "mean_sample = 84  \n",
    "std_dev = 24  \n",
    "n = 64 \n",
    "confidence_level = 0.90  \n",
    "\n",
    "\n",
    "alpha = 1 - confidence_level\n",
    "z_score = stats.norm.ppf(1 - alpha / 2)\n",
    "\n",
    "\n",
    "std_error = std_dev / math.sqrt(n)\n",
    "\n",
    "\n",
    "lower_bound = mean_sample - z_score * std_error\n",
    "upper_bound = mean_sample + z_score * std_error\n",
    "\n",
    "print(lower_bound)\n",
    "print(upper_bound)\n"
   ]
  },
  {
   "cell_type": "markdown",
   "id": "755898d2-5e1b-437a-b120-8b8b634bcec3",
   "metadata": {},
   "source": [
    "**Задача 4:**\n",
    "В 2003 году Дартмутская Медицинская Школа запустила исследование для изучения связи между просмотром фильмов с курящими актёрами и началом курения среди подростков. В исследовании были случайным образом отобраны 6522 американских подростка в возрасте 10-14 лет, которые никогда не пробовали курить до этого. Из тех, кто впоследствии попробовал курить впервые, 38% сделали это из-за воздействия курения в фильмах. Оцените долю всех американских подростков в возрасте 10-14 лет, которые начали курить из-за просмотра курящих актеров в фильмах, построив 95% доверительный интервал."
   ]
  },
  {
   "cell_type": "code",
   "execution_count": 5,
   "id": "d0ac9db6-1184-4565-9159-5b59beaa9eb9",
   "metadata": {},
   "outputs": [
    {
     "name": "stdout",
     "output_type": "stream",
     "text": [
      "0.36821999874165273\n",
      "0.3917800012583473\n"
     ]
    }
   ],
   "source": [
    "n = 6522\n",
    "p_hat = 0.38\n",
    "confidence_level = 0.95\n",
    "\n",
    "alpha = 1 - confidence_level\n",
    "z_score = stats.norm.ppf(1 - alpha / 2)\n",
    "\n",
    "std_error = math.sqrt((p_hat * (1 - p_hat)) / n)\n",
    "\n",
    "lower_bound = p_hat - z_score * std_error\n",
    "upper_bound = p_hat + z_score * std_error\n",
    "\n",
    "print(lower_bound)\n",
    "print(upper_bound)"
   ]
  },
  {
   "cell_type": "markdown",
   "id": "5c09de7b-2851-4f5f-bfd0-31940f463231",
   "metadata": {},
   "source": [
    "**Задача 5:**\n",
    "49 женщин, были выбраны случайным образом и их высота была измерена. Среднее значение выборки составило 164 см, стандартное отклонение - 20 см. Рассчитайте доверительный интервал для среднего значения популяции с 95%-м уровнем доверия."
   ]
  },
  {
   "cell_type": "code",
   "execution_count": 7,
   "id": "39847a9e-0833-4ef9-ae11-3af2c6bf67ad",
   "metadata": {},
   "outputs": [
    {
     "name": "stdout",
     "output_type": "stream",
     "text": [
      "158.40010290131414\n",
      "169.59989709868586\n"
     ]
    }
   ],
   "source": [
    "mean_sample = 164  \n",
    "std_dev = 20  \n",
    "n = 49  \n",
    "confidence_level = 0.95\n",
    "\n",
    "alpha = 1 - confidence_level\n",
    "z_score = stats.norm.ppf(1 - alpha / 2)\n",
    "\n",
    "std_error = std_dev / math.sqrt(n)\n",
    "\n",
    "lower_bound = mean_sample - z_score * std_error\n",
    "upper_bound = mean_sample + z_score * std_error\n",
    "\n",
    "print(lower_bound)\n",
    "print(upper_bound)"
   ]
  },
  {
   "cell_type": "code",
   "execution_count": null,
   "id": "cf35703f-f15b-4754-ad45-b42834c5df93",
   "metadata": {},
   "outputs": [],
   "source": []
  }
 ],
 "metadata": {
  "kernelspec": {
   "display_name": "Python 3 (ipykernel)",
   "language": "python",
   "name": "python3"
  },
  "language_info": {
   "codemirror_mode": {
    "name": "ipython",
    "version": 3
   },
   "file_extension": ".py",
   "mimetype": "text/x-python",
   "name": "python",
   "nbconvert_exporter": "python",
   "pygments_lexer": "ipython3",
   "version": "3.12.7"
  }
 },
 "nbformat": 4,
 "nbformat_minor": 5
}
