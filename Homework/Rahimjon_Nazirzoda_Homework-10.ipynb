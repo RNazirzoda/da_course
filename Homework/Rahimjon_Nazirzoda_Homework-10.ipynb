{
 "cells": [
  {
   "cell_type": "markdown",
   "id": "c2bb2a02-a20b-4819-ad8e-6f39a0738bb9",
   "metadata": {},
   "source": [
    "**Назирзода Рахимджон**"
   ]
  },
  {
   "cell_type": "markdown",
   "id": "c5725ef4-4729-477f-8ca2-99cbce28f978",
   "metadata": {},
   "source": [
    "**Задание - 1**"
   ]
  },
  {
   "cell_type": "code",
   "execution_count": 188,
   "id": "0a52866b-ed7b-4606-8dd2-977013cf3e1d",
   "metadata": {},
   "outputs": [],
   "source": [
    "class Scales:\n",
    "    def __init__(self, right=0, left=0, weight=0):\n",
    "        self.right=0\n",
    "        self.left=0\n",
    "        self.weight=0\n",
    "        \n",
    "    def add_right(self, weight):\n",
    "        self.right += weight\n",
    "    \n",
    "    def add_left(self, weight):\n",
    "        self.left += weight\n",
    "\n",
    "    def get_result(self, weight=0):\n",
    "        if self.right == self.left:\n",
    "            return \"Весы в равновесии\"\n",
    "\n",
    "        elif self.right > self.left:\n",
    "            return \"Правая чаша тяжелее\"\n",
    "        else:\n",
    "            return \"Левая чаша тяжелее\" "
   ]
  },
  {
   "cell_type": "code",
   "execution_count": 196,
   "id": "2c8b44af-0d51-464b-a6b4-1a9dc6824b25",
   "metadata": {},
   "outputs": [],
   "source": [
    "my_scales = Scales()"
   ]
  },
  {
   "cell_type": "code",
   "execution_count": 198,
   "id": "bda8a27f-41a3-4b67-b272-f77f3bb3a963",
   "metadata": {},
   "outputs": [],
   "source": [
    "my_scales.add_right(18)"
   ]
  },
  {
   "cell_type": "code",
   "execution_count": 200,
   "id": "84e39653-077c-44c0-9a93-1c42510ea272",
   "metadata": {},
   "outputs": [],
   "source": [
    "my_scales.add_left(15)"
   ]
  },
  {
   "cell_type": "code",
   "execution_count": 202,
   "id": "28568fec-f9ba-409a-b839-0a87fa65a3b6",
   "metadata": {},
   "outputs": [
    {
     "data": {
      "text/plain": [
       "'Правая чаша тяжелее'"
      ]
     },
     "execution_count": 202,
     "metadata": {},
     "output_type": "execute_result"
    }
   ],
   "source": [
    "my_scales.get_result()"
   ]
  },
  {
   "cell_type": "markdown",
   "id": "fd69a0c1-5da4-4e22-b166-77efd30251a6",
   "metadata": {},
   "source": [
    "**Задание-2**"
   ]
  },
  {
   "cell_type": "code",
   "execution_count": 266,
   "id": "36e74ca4-a858-4f2a-ab4b-f6bc5b308f35",
   "metadata": {},
   "outputs": [],
   "source": [
    "class Car:\n",
    "    def __init__(self, fuel=0, max_fuel=0, consumption=100/10, mileage=0):\n",
    "        self.__fuel = fuel\n",
    "        self.__max_fuel = max_fuel\n",
    "        self.consumption = consumption\n",
    "        self.mileage = mileage\n",
    "\n",
    "    def drive(self, distance):\n",
    "        fuel_needed = (distance * self.consumption) / 100\n",
    "\n",
    "        if fuel_needed <= self.__fuel:\n",
    "            self.__fuel -= fuel_needed\n",
    "            self.mileage += distance\n",
    "        else:\n",
    "            print('Недостаточно топлива!')\n",
    "            \n",
    "    def refueling(self):\n",
    "        self.__fuel = self.__max_fuel\n",
    "    \n",
    "    def get_status(self, mileage = 0):\n",
    "        return f'{self.__fuel}/{self.__max_fuel}'"
   ]
  },
  {
   "cell_type": "code",
   "execution_count": 274,
   "id": "33509062-3ca4-4d87-9e81-3cabb4735a67",
   "metadata": {},
   "outputs": [],
   "source": [
    "my_car = Car(fuel=30, max_fuel=100)"
   ]
  },
  {
   "cell_type": "code",
   "execution_count": 276,
   "id": "106cb712-0a9f-4395-a341-ecfcaa292033",
   "metadata": {},
   "outputs": [
    {
     "data": {
      "text/plain": [
       "'30/100'"
      ]
     },
     "execution_count": 276,
     "metadata": {},
     "output_type": "execute_result"
    }
   ],
   "source": [
    "my_car.get_status()"
   ]
  },
  {
   "cell_type": "code",
   "execution_count": 288,
   "id": "9fde7d0b-6937-494e-ac4c-bee44c3d71b9",
   "metadata": {},
   "outputs": [
    {
     "name": "stdout",
     "output_type": "stream",
     "text": [
      "Недостаточно топлива!\n"
     ]
    }
   ],
   "source": [
    "my_car.drive(300)"
   ]
  },
  {
   "cell_type": "code",
   "execution_count": 290,
   "id": "e67bd4fb-056e-41fa-b750-2ea798e874ef",
   "metadata": {},
   "outputs": [
    {
     "data": {
      "text/plain": [
       "110"
      ]
     },
     "execution_count": 290,
     "metadata": {},
     "output_type": "execute_result"
    }
   ],
   "source": [
    "my_car.mileage"
   ]
  },
  {
   "cell_type": "code",
   "execution_count": 286,
   "id": "20ed7147-116d-4e76-9e26-e833300fa39f",
   "metadata": {},
   "outputs": [
    {
     "data": {
      "text/plain": [
       "'19.0/100'"
      ]
     },
     "execution_count": 286,
     "metadata": {},
     "output_type": "execute_result"
    }
   ],
   "source": [
    "my_car.get_status()"
   ]
  },
  {
   "cell_type": "code",
   "execution_count": 256,
   "id": "b4a02cde-45f0-4947-b327-02f728d71b17",
   "metadata": {},
   "outputs": [],
   "source": [
    "my_car.refueling()"
   ]
  },
  {
   "cell_type": "code",
   "execution_count": 258,
   "id": "7ddfd622-4593-4418-bc0e-520471a59aa7",
   "metadata": {},
   "outputs": [
    {
     "data": {
      "text/plain": [
       "'100/100'"
      ]
     },
     "execution_count": 258,
     "metadata": {},
     "output_type": "execute_result"
    }
   ],
   "source": [
    "my_car.get_status()"
   ]
  },
  {
   "cell_type": "markdown",
   "id": "fe334e29-e6d3-4844-b084-8b2066003291",
   "metadata": {},
   "source": [
    "**Задание-3**"
   ]
  },
  {
   "cell_type": "code",
   "execution_count": 393,
   "id": "27f85d3f-9b1a-4201-9faf-17fdcf2fb1d2",
   "metadata": {},
   "outputs": [],
   "source": [
    "class BankAccount:\n",
    "    def __init__(self, balance=0,):\n",
    "        self.__balance = balance\n",
    "\n",
    "    def get_balance(self):\n",
    "        return self.__balance\n",
    "    \n",
    "    def deposite(self, amount):\n",
    "        self.__balance += amount\n",
    "\n",
    "    def withdraw(self, amount):\n",
    "        self.__balance -= amount\n",
    "        if amount > self.__balance:\n",
    "            print('На счете недостаточно средств') \n",
    "        \n",
    "    def transfer(self, account, amount):\n",
    "        if amount > self.__balance:\n",
    "            print('На счете недостаточно средств')\n",
    "        elif amount > 0:\n",
    "            self.__balance -= amount\n",
    "            account.deposite(amount)         "
   ]
  },
  {
   "cell_type": "code",
   "execution_count": 439,
   "id": "18058dc7-7d84-4eda-b0d2-dad9753f05ac",
   "metadata": {},
   "outputs": [],
   "source": [
    "my_bank = BankAccount(500)\n",
    "other_bank = BankAccount()"
   ]
  },
  {
   "cell_type": "code",
   "execution_count": 447,
   "id": "5f112c47-2c05-444f-af9f-9b8b487734ca",
   "metadata": {},
   "outputs": [
    {
     "data": {
      "text/plain": [
       "580"
      ]
     },
     "execution_count": 447,
     "metadata": {},
     "output_type": "execute_result"
    }
   ],
   "source": [
    "my_bank.get_balance()"
   ]
  },
  {
   "cell_type": "code",
   "execution_count": 443,
   "id": "547f32a5-0e76-4e68-8bc7-19b1926f25a5",
   "metadata": {},
   "outputs": [],
   "source": [
    "my_bank.deposite(100)"
   ]
  },
  {
   "cell_type": "code",
   "execution_count": 445,
   "id": "b1912ebf-cbdb-47cd-8615-a15fb7165884",
   "metadata": {},
   "outputs": [],
   "source": [
    "my_bank.withdraw(20)"
   ]
  },
  {
   "cell_type": "code",
   "execution_count": 441,
   "id": "c19011b9-ea92-4580-87c4-159ab74b226b",
   "metadata": {},
   "outputs": [
    {
     "name": "stdout",
     "output_type": "stream",
     "text": [
      "На счете недостаточно средств\n"
     ]
    }
   ],
   "source": [
    "my_bank.transfer(other_bank, 600)"
   ]
  },
  {
   "cell_type": "code",
   "execution_count": null,
   "id": "df12159d-aa9c-45ce-ae50-87064b49cab5",
   "metadata": {},
   "outputs": [],
   "source": []
  }
 ],
 "metadata": {
  "kernelspec": {
   "display_name": "Python 3 (ipykernel)",
   "language": "python",
   "name": "python3"
  },
  "language_info": {
   "codemirror_mode": {
    "name": "ipython",
    "version": 3
   },
   "file_extension": ".py",
   "mimetype": "text/x-python",
   "name": "python",
   "nbconvert_exporter": "python",
   "pygments_lexer": "ipython3",
   "version": "3.12.7"
  }
 },
 "nbformat": 4,
 "nbformat_minor": 5
}
