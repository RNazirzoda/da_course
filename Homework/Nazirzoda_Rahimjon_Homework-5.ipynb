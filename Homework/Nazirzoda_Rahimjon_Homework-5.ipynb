{
 "cells": [
  {
   "cell_type": "markdown",
   "id": "a3737998-649f-466b-a08e-c5e1aeae6368",
   "metadata": {},
   "source": [
    "**Назирзода Рахимджон**"
   ]
  },
  {
   "cell_type": "markdown",
   "id": "fc01937d-f565-4f9c-bf55-c95cc93a5d7a",
   "metadata": {},
   "source": [
    "**Задание -1**"
   ]
  },
  {
   "cell_type": "code",
   "execution_count": 16,
   "id": "acac7dee-23c0-4632-95c9-9bb681a50a28",
   "metadata": {},
   "outputs": [
    {
     "name": "stdout",
     "output_type": "stream",
     "text": [
      "71\n",
      "2\n",
      "73\n"
     ]
    }
   ],
   "source": [
    "list_num1 = [13, 31, 29, 41, 47, 37, 61, 43, 2, 11, 5, 17, 53, 23, 71, 67, 19, 7, 59, 3]\n",
    "\n",
    "max_list_num1 = max(list_num1)\n",
    "min_list_num1 = min(list_num1)\n",
    "\n",
    "summ = max_list_num1 + min_list_num1\n",
    "\n",
    "print(max_list_num1)\n",
    "print(min_list_num1)\n",
    "print(summ)\n",
    "\n"
   ]
  },
  {
   "cell_type": "markdown",
   "id": "14ea86be-d6d5-43b8-b0b3-7a4207940f89",
   "metadata": {},
   "source": [
    "**Задание -2**"
   ]
  },
  {
   "cell_type": "code",
   "execution_count": 30,
   "id": "b6f897b3-4990-4514-a249-07fc619bfb4f",
   "metadata": {},
   "outputs": [
    {
     "name": "stdout",
     "output_type": "stream",
     "text": [
      "102\n",
      "9\n",
      "11\n"
     ]
    }
   ],
   "source": [
    "list_num2  = [2, 4, 8, 6, 4, 10, 45, 11, 12]\n",
    "summ = sum(list_num2)\n",
    "cnt = len(list_num2)\n",
    "average = summ // cnt\n",
    "\n",
    "print(summ)\n",
    "print(cnt)\n",
    "print(average)"
   ]
  },
  {
   "cell_type": "markdown",
   "id": "5cb1f015-f5e4-4daa-91d9-83d4564dd14b",
   "metadata": {},
   "source": [
    "**Задание -3**"
   ]
  },
  {
   "cell_type": "code",
   "execution_count": 44,
   "id": "d5451f61-6679-4dba-b2bd-1e132abe55d0",
   "metadata": {},
   "outputs": [
    {
     "name": "stdin",
     "output_type": "stream",
     "text": [
      "n:  5\n",
      "n:  first\n",
      "n:  second\n",
      "n:  first\n",
      "n:  third\n",
      "n:  second\n"
     ]
    },
    {
     "name": "stdout",
     "output_type": "stream",
     "text": [
      "['first', 'second', 'first', 'third', 'second']\n"
     ]
    }
   ],
   "source": [
    "list_num3 = []\n",
    "\n",
    "cnt_num3 = int(input('n: '))\n",
    "\n",
    "for i in range(cnt_num3):\n",
    "    num3 = input('n: ')\n",
    "    list_num3.append(num3)\n",
    "\n",
    "print(list_num3)\n"
   ]
  },
  {
   "cell_type": "code",
   "execution_count": 3,
   "id": "b18f3548-aa5e-4aa6-ac1f-547979562f3c",
   "metadata": {},
   "outputs": [
    {
     "name": "stdin",
     "output_type": "stream",
     "text": [
      "n:  5\n",
      "n:  first\n",
      "n:  second\n",
      "n:  first\n",
      "n:  third\n",
      "n:  second\n"
     ]
    },
    {
     "name": "stdout",
     "output_type": "stream",
     "text": [
      "['first', 'second', 'third']\n"
     ]
    }
   ],
   "source": [
    "list_num3 = []\n",
    "\n",
    "cnt_num3 = int(input('n: '))\n",
    "\n",
    "for i in range(cnt_num3):\n",
    "    num3 = input('n: ')\n",
    "    if num3 not in list_num3:\n",
    "        list_num3.append(num3)\n",
    "        \n",
    "    \n",
    "\n",
    "print(list_num3)"
   ]
  },
  {
   "cell_type": "code",
   "execution_count": null,
   "id": "494169b5-107a-4cd5-a78a-e6b2421cd2a9",
   "metadata": {},
   "outputs": [],
   "source": []
  },
  {
   "cell_type": "markdown",
   "id": "ae992bfc-be83-4361-8190-2c04753d0a8c",
   "metadata": {},
   "source": [
    "**Задание -4**"
   ]
  },
  {
   "cell_type": "markdown",
   "id": "de20b0ab-0dd8-4404-bef4-d6eefdbb4a7c",
   "metadata": {},
   "source": [
    "**Пример -1**"
   ]
  },
  {
   "cell_type": "code",
   "execution_count": 72,
   "id": "d830b509-cb9d-404a-a1ca-1459768cc8f8",
   "metadata": {},
   "outputs": [
    {
     "name": "stdin",
     "output_type": "stream",
     "text": [
      "Enter the numer:   Число Pi примерно равно 3,1415\n"
     ]
    },
    {
     "name": "stdout",
     "output_type": "stream",
     "text": [
      "[3, 1, 4, 1, 5]\n",
      "6\n"
     ]
    }
   ],
   "source": [
    "list_num4 = input('Enter the numer: ')\n",
    "\n",
    "list_num4_digits = [int(char) for char in list_num4 if char.isdigit()]\n",
    "if list_num4_digits:\n",
    "    max_list_num4_digits = max(list_num4_digits)\n",
    "    min_list_num4_digits = min(list_num4_digits)\n",
    "    summ = max_list_num4_digits + min_list_num4_digits\n",
    "    print(list_num4_digits)\n",
    "    print(summ)\n",
    "    \n",
    "\n",
    "\n"
   ]
  },
  {
   "cell_type": "markdown",
   "id": "efdb3c39-daf2-49d7-807d-6dad5de059eb",
   "metadata": {},
   "source": [
    "**Пример -2**"
   ]
  },
  {
   "cell_type": "code",
   "execution_count": 85,
   "id": "f2ea5445-9445-4fa4-9863-6673ff10e596",
   "metadata": {},
   "outputs": [
    {
     "name": "stdin",
     "output_type": "stream",
     "text": [
      "Enter:  123 Мой номер телефона состоит из 9-ти цифрю 345\n"
     ]
    },
    {
     "name": "stdout",
     "output_type": "stream",
     "text": [
      "[1, 2, 3, 9, 3, 4, 5]\n",
      "10\n"
     ]
    }
   ],
   "source": [
    "list_num5 = input('Enter: ')\n",
    "\n",
    "list_num5_digits = [int(char) for char in list_num5 if char.isdigit()]\n",
    "if list_num5_digits:\n",
    "    max_list_num5_digits = max(list_num5_digits)\n",
    "    min_list_num5_digits = min(list_num5_digits)\n",
    "    summ = max_list_num5_digits + min_list_num5_digits\n",
    "    print(list_num5_digits)\n",
    "    print(summ)"
   ]
  },
  {
   "cell_type": "markdown",
   "id": "60b65214-cd28-41b4-ac14-fe683b8a5535",
   "metadata": {},
   "source": [
    "**Задание -5**"
   ]
  },
  {
   "cell_type": "code",
   "execution_count": 116,
   "id": "dd735643-bfb5-4b8b-9d4b-10edda943b8b",
   "metadata": {},
   "outputs": [
    {
     "name": "stdin",
     "output_type": "stream",
     "text": [
      "Enter the number:  5\n"
     ]
    },
    {
     "name": "stdout",
     "output_type": "stream",
     "text": [
      "[1, 4, 9, 16, 25]\n"
     ]
    }
   ],
   "source": [
    "list_num6 = int(input('Enter the number: '))\n",
    "\n",
    "sqr = [i ** 2 for i in range(1, n + 1)]\n",
    "    \n",
    "print(sqr)"
   ]
  }
 ],
 "metadata": {
  "kernelspec": {
   "display_name": "Python 3 (ipykernel)",
   "language": "python",
   "name": "python3"
  },
  "language_info": {
   "codemirror_mode": {
    "name": "ipython",
    "version": 3
   },
   "file_extension": ".py",
   "mimetype": "text/x-python",
   "name": "python",
   "nbconvert_exporter": "python",
   "pygments_lexer": "ipython3",
   "version": "3.12.7"
  }
 },
 "nbformat": 4,
 "nbformat_minor": 5
}
