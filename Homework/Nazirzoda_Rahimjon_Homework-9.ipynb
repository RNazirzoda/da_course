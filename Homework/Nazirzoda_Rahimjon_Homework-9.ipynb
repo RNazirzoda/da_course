{
 "cells": [
  {
   "cell_type": "markdown",
   "id": "b3f1473d-8ff4-4711-86ab-537f873db4b4",
   "metadata": {},
   "source": [
    "**Назирзода Рахимджон**"
   ]
  },
  {
   "cell_type": "markdown",
   "id": "f049ce74-4f14-441f-97cc-821e79a2f8e8",
   "metadata": {},
   "source": [
    "**Задание -1**"
   ]
  },
  {
   "cell_type": "code",
   "execution_count": 6,
   "id": "d6a4a51c-8f24-4513-bb69-44b380ad505e",
   "metadata": {},
   "outputs": [
    {
     "name": "stdout",
     "output_type": "stream",
     "text": [
      "1. Красивое лучше, чем уродливое;\n",
      "2. Явное лучше, чем неявное;\n",
      "3. Простое лучше, чем сложное;\n",
      "4. Сложное лучше, чем запутанное;\n",
      "5. Плоское лучше, чем вложенное;\n",
      "6. Разреженное лучше, чем плотное;\n",
      "7. Читаемость имеет значение;\n",
      "8. Особые случаи не настолько особые, чтобы нарушать правила;\n",
      "9. При этом практичность важнее безупречности;\n",
      "10. Ошибки никогда не должны замалчиваться;\n",
      "11. Если не замалчиваются явно;\n",
      "12. Встретив двусмысленность, отбрось искушение угадать;\n",
      "13. Должен существовать один — и, желательно, только один — очевидный способ сделать это;\n",
      "14. Хотя он поначалу может быть и не очевиден, если вы не голландец;\n",
      "15. Сейчас лучше, чем никогда;\n",
      "16. Хотя никогда зачастую лучше, чем прямо сейчас;\n",
      "17. Если реализацию сложно объяснить — идея плоха;\n",
      "18. Если реализацию легко объяснить — идея, возможно, хороша;\n",
      "19. Пространства имён — отличная вещь! Давайте будем делать их больше!\n"
     ]
    }
   ],
   "source": [
    "input_txt = open(r'C:\\Users\\Rahimjon\\Desktop\\Data Analyst\\input.txt', 'r', encoding='utf-8')\n",
    "\n",
    "for i, j in enumerate(input_txt.readlines(), 1):\n",
    "    print(f'{i}. {j.strip()}')\n",
    "\n",
    "input_txt.close()"
   ]
  },
  {
   "cell_type": "code",
   "execution_count": 8,
   "id": "89be14b0-eaa5-4bb4-80a6-8ae2547bfebb",
   "metadata": {},
   "outputs": [],
   "source": [
    "with open(r'C:\\Users\\Rahimjon\\Desktop\\Data Analyst\\output.txt', 'w', encoding='utf-8') as output:\n",
    "    print('1)Красивое лучше, чем уродливое;', file=output)\n",
    "    print('2)Явное лучше, чем неявное;', file=output)\n",
    "    print('3)Простое лучше, чем сложное;', file=output)\n",
    "    print('4)Сложное лучше, чем запутанное;', file=output)\n",
    "    print('5)Плоское лучше, чем вложенное;', file=output)\n",
    "    print('6)Разреженное лучше, чем плотное;', file=output)\n",
    "    print('7)Читаемость имеет значение;', file=output)\n",
    "    print('8)Особые случаи не настолько особые, чтобы нарушать правила;', file=output)\n",
    "    print('9)При этом практичность важнее безупречности;', file=output)\n",
    "    print('10)Ошибки никогда не должны замалчиваться;', file=output)\n",
    "    print('11)Если не замалчиваются явно;', file=output)\n",
    "    print('12)Встретив двусмысленность, отбрось искушение угадать;', file=output)\n",
    "    print('13)Должен существовать один — и, желательно, только один — очевидный способ сделать это;', file=output)\n",
    "    print('14)Хотя он поначалу может быть и не очевиден, если вы не голландец;', file=output)\n",
    "    print('15)Сейчас лучше, чем никогда;', file=output)\n",
    "    print('16)Хотя никогда зачастую лучше, чем прямо сейчас;', file=output)\n",
    "    print('17)Если реализацию сложно объяснить — идея плоха;', file=output)\n",
    "    print('18)Если реализацию легко объяснить — идея, возможно, хороша;', file=output)\n",
    "    print('19)Пространства имён — отличная вещь! Давайте будем делать их больше!', file=output)"
   ]
  },
  {
   "cell_type": "markdown",
   "id": "1e03a4fb-d317-4f90-8b19-b00d224d3b81",
   "metadata": {},
   "source": [
    "**Задание -2**"
   ]
  },
  {
   "cell_type": "code",
   "execution_count": 8,
   "id": "e12410d8-216e-4525-a052-aaa78b49895a",
   "metadata": {},
   "outputs": [
    {
     "name": "stdout",
     "output_type": "stream",
     "text": [
      "256\n",
      "78\n",
      "114\n",
      "15\n",
      "1089\n"
     ]
    }
   ],
   "source": [
    "with open(r'C:\\Users\\Rahimjon\\Desktop\\Data Analyst\\numbers.txt', 'r', encoding='utf-8') as file:\n",
    "    lines = file.readlines()\n",
    "for line in lines:\n",
    "    numbers = line.split()\n",
    "    total = sum(map(int, numbers))\n",
    "    print(total)"
   ]
  },
  {
   "cell_type": "markdown",
   "id": "f5b01a26-202f-4f2a-83b5-4e7ddd5bda39",
   "metadata": {},
   "source": [
    "**Задание -3**"
   ]
  },
  {
   "cell_type": "code",
   "execution_count": 20,
   "id": "bf022875-1071-4f93-8240-91f4d5b0f5cf",
   "metadata": {},
   "outputs": [
    {
     "name": "stdout",
     "output_type": "stream",
     "text": [
      "телефон\t4\t12500\n",
      "бургер\t1\t50\n",
      "хлеб\t1\t10\n",
      "двигатель\t1\t9500\n",
      "наушники\t40\t520\n",
      "телефон\t2\t2500\n",
      "ноутбук\t5\t17500\n",
      "диван\t10\t30000\n",
      "\n"
     ]
    }
   ],
   "source": [
    "with open(r'C:\\Users\\Rahimjon\\Desktop\\Data Analyst\\prices.txt', 'r', encoding='utf-8') as file:\n",
    "    print(file.read())"
   ]
  },
  {
   "cell_type": "code",
   "execution_count": 22,
   "id": "cfe1579e-9a90-47bc-8ccf-e69758210e29",
   "metadata": {},
   "outputs": [
    {
     "name": "stdout",
     "output_type": "stream",
     "text": [
      "472860\n"
     ]
    }
   ],
   "source": [
    "with open(r'C:\\Users\\Rahimjon\\Desktop\\Data Analyst\\prices.txt', 'r', encoding='utf-8') as file:\n",
    "    total_price = 0\n",
    "    for line in file:\n",
    "        name, qnt, price = line.strip().split('\\t')\n",
    "        total_price += int(qnt) * int(price)\n",
    "        \n",
    "    print(total_price)\n"
   ]
  },
  {
   "cell_type": "code",
   "execution_count": null,
   "id": "cd6dc902-7259-43f0-af3f-2865f0901282",
   "metadata": {},
   "outputs": [],
   "source": []
  },
  {
   "cell_type": "code",
   "execution_count": null,
   "id": "008b9c27-9853-4649-aab2-24bf605b525f",
   "metadata": {},
   "outputs": [],
   "source": []
  },
  {
   "cell_type": "code",
   "execution_count": null,
   "id": "bf6a93fd-924c-45a1-bfe9-f7c20b46027a",
   "metadata": {},
   "outputs": [],
   "source": []
  },
  {
   "cell_type": "code",
   "execution_count": null,
   "id": "9a4623ff-f36f-4032-9bde-13e400fb37d6",
   "metadata": {},
   "outputs": [],
   "source": []
  },
  {
   "cell_type": "code",
   "execution_count": null,
   "id": "ba508583-9ca1-4bb7-a5d4-b4c320f618e3",
   "metadata": {},
   "outputs": [],
   "source": []
  },
  {
   "cell_type": "code",
   "execution_count": null,
   "id": "0323292d-a96e-4c27-b128-27ae8dd42e90",
   "metadata": {},
   "outputs": [],
   "source": []
  },
  {
   "cell_type": "code",
   "execution_count": null,
   "id": "c794d045-6de0-4eca-aa08-9ab0dfa12935",
   "metadata": {},
   "outputs": [],
   "source": []
  },
  {
   "cell_type": "code",
   "execution_count": null,
   "id": "d1cd8f2f-c800-4b1c-a0ab-dfb062e2432e",
   "metadata": {},
   "outputs": [],
   "source": []
  }
 ],
 "metadata": {
  "kernelspec": {
   "display_name": "Python 3 (ipykernel)",
   "language": "python",
   "name": "python3"
  },
  "language_info": {
   "codemirror_mode": {
    "name": "ipython",
    "version": 3
   },
   "file_extension": ".py",
   "mimetype": "text/x-python",
   "name": "python",
   "nbconvert_exporter": "python",
   "pygments_lexer": "ipython3",
   "version": "3.12.7"
  }
 },
 "nbformat": 4,
 "nbformat_minor": 5
}
