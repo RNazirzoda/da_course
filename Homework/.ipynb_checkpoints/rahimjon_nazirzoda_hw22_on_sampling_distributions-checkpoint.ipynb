{
 "cells": [
  {
   "cell_type": "markdown",
   "id": "0c7a5fde-1de1-484f-9780-40f369bcc632",
   "metadata": {},
   "source": [
    "# Выборочные распределения"
   ]
  },
  {
   "cell_type": "markdown",
   "id": "295f6638-742b-46d8-bdb6-18ae909dba2e",
   "metadata": {},
   "source": [
    "**Рахимджон Назирзода**"
   ]
  },
  {
   "cell_type": "code",
   "execution_count": 4,
   "id": "5b4bc9a5-7381-4951-ba49-021753e76de3",
   "metadata": {},
   "outputs": [],
   "source": [
    "import numpy as np\n",
    "import scipy.stats as stats"
   ]
  },
  {
   "cell_type": "markdown",
   "id": "7b4a9c44-375b-4ba3-8591-7d999498ad40",
   "metadata": {},
   "source": [
    "**Задача 1:**\n",
    "У случайной выборки людей разного возраста спросили надевают ли они очки при чтении. Результаты приведены в таблице ниже. Имеется ли взаимосвязь между возрастом и ношением очков?\n"
   ]
  },
  {
   "cell_type": "code",
   "execution_count": 23,
   "id": "509098ea-3403-4348-a049-967866141e4d",
   "metadata": {},
   "outputs": [
    {
     "name": "stdout",
     "output_type": "stream",
     "text": [
      "36.795113057987386\n",
      "5.0843273728433166e-08\n",
      "7.814727903251179\n",
      "3\n"
     ]
    }
   ],
   "source": [
    "observed = np.array([[15, 56], [19, 37], [34, 35], [51, 23]])\n",
    "\n",
    "row_sums = observed.sum(axis=1).reshape(-1, 1)\n",
    "col_sums = observed.sum(axis=0)\n",
    "total = observed.sum()\n",
    "\n",
    "chi2_stat, p_value, dof, expected_freq = stats.chi2_contingency(observed)\n",
    "\n",
    "critical_value = stats.chi2.ppf(0.95, dof)\n",
    "\n",
    "print(chi2_stat)\n",
    "print(p_value) \n",
    "print(critical_value)\n",
    "print(dof)"
   ]
  },
  {
   "cell_type": "markdown",
   "id": "37bf589c-8522-4f1e-bd3b-137161cf5e32",
   "metadata": {},
   "source": [
    "**Задача 2:**\n",
    "Случайная выборка студентов была разделена на 3 группы и каждая из них готовилась к сдаче экзамена по одной из 3 методик (A, B, C). В таблице ниже приведены оценки по экзамену студентов каждой группы. Определите имеются ли различия между группами."
   ]
  },
  {
   "cell_type": "code",
   "execution_count": 10,
   "id": "0e9333fc-b694-41e6-a388-abad80743dbc",
   "metadata": {},
   "outputs": [],
   "source": [
    "from scipy.stats import f_oneway"
   ]
  },
  {
   "cell_type": "code",
   "execution_count": 21,
   "id": "583001e9-27e8-4eec-be30-ab2a63ab4e7f",
   "metadata": {},
   "outputs": [
    {
     "name": "stdout",
     "output_type": "stream",
     "text": [
      "2.3575322551335636\n",
      "0.11384795345837218\n"
     ]
    }
   ],
   "source": [
    "group_1 = np.array([85, 86, 88, 75, 78, 94, 98, 79, 71, 80])\n",
    "group_2 = np.array([91, 92, 93, 85, 87, 84, 82, 88, 95, 96])\n",
    "group_3 = np.array([79, 78, 88, 94, 92, 85, 83, 85, 82, 81])\n",
    "\n",
    "f_statistic, p_value = stats.f_oneway(group_1, group_2, group_3)\n",
    "\n",
    "print(f_statistic)\n",
    "print(p_value)"
   ]
  },
  {
   "cell_type": "markdown",
   "id": "13a96832-96ea-4139-8cd2-d657210985c5",
   "metadata": {},
   "source": [
    "**Задача 3:**\n",
    "Случайная выборка 20 игроков в баскетбол была отобрана для улучшения высоты их вертикального прыжка специальным методом тренировок. Высота максимального вертикального прыжка (в сантиметрах) каждого игрока измерили при отборе а потом измерили повторно, после прохождения тренировок. Результаты представлены в таблице ниже. Улучшила ли программа высоту вертикального прыжка игроков?"
   ]
  },
  {
   "cell_type": "code",
   "execution_count": 15,
   "id": "d0071867-ca1f-492a-87d1-67ff53896500",
   "metadata": {},
   "outputs": [
    {
     "data": {
      "text/plain": [
       "TtestResult(statistic=3.2261733111671806, pvalue=0.004445370704412229, df=19)"
      ]
     },
     "execution_count": 15,
     "metadata": {},
     "output_type": "execute_result"
    }
   ],
   "source": [
    "before_training = np.array([55.88, 50.80, 48.26, 60.96, 63.50, 63.50, 71.12, 55.88, 76.20, 68.58, \n",
    "                   60.96, 45.72, 40.64, 48.26, 48.26, 71.12, 60.96, 63.50, 63.50, 58.42])\n",
    "after_training  = np.array([60.96, 55.88, 48.26, 55.88, 71.12, 66.04, 71.12, 60.96, 76.20, 73.66, \n",
    "                   63.50, 50.80, 43.18, 45.72, 45.72, 71.12, 66.04, 68.58, 68.58, 60.96])\n",
    "\n",
    "stats.ttest_rel(\n",
    "    after_training, \n",
    "    before_training\n",
    ")"
   ]
  }
 ],
 "metadata": {
  "kernelspec": {
   "display_name": "Python 3 (ipykernel)",
   "language": "python",
   "name": "python3"
  },
  "language_info": {
   "codemirror_mode": {
    "name": "ipython",
    "version": 3
   },
   "file_extension": ".py",
   "mimetype": "text/x-python",
   "name": "python",
   "nbconvert_exporter": "python",
   "pygments_lexer": "ipython3",
   "version": "3.12.7"
  }
 },
 "nbformat": 4,
 "nbformat_minor": 5
}
