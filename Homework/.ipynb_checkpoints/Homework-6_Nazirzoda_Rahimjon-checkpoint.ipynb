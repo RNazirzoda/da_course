{
 "cells": [
  {
   "cell_type": "markdown",
   "id": "a837b0a2-0daf-44f7-9917-670cb20b933e",
   "metadata": {},
   "source": [
    "**Задание 1**"
   ]
  },
  {
   "cell_type": "code",
   "execution_count": 25,
   "id": "348ac6bf-3ea1-4aee-b8b8-8e29327dc900",
   "metadata": {},
   "outputs": [],
   "source": [
    "def print_digit_sum(num):\n",
    "    digit_sum  = sum(int(digit) for digit in str(abs(num)))\n",
    "    print(digit_sum)\n"
   ]
  },
  {
   "cell_type": "code",
   "execution_count": 31,
   "id": "1268a2b9-9586-43bf-8d54-59421180319e",
   "metadata": {},
   "outputs": [
    {
     "name": "stdout",
     "output_type": "stream",
     "text": [
      "15\n"
     ]
    }
   ],
   "source": [
    "print_digit_sum(12345)"
   ]
  },
  {
   "cell_type": "markdown",
   "id": "e95c5541-6855-41f0-aa41-fe6f29322441",
   "metadata": {},
   "source": [
    "**Задание 2**"
   ]
  },
  {
   "cell_type": "code",
   "execution_count": 49,
   "id": "8d936c83-7660-4fed-827e-dd1f4152eddc",
   "metadata": {},
   "outputs": [],
   "source": [
    "def get_days(month):\n",
    "    days_month = [31, 28, 31, 30, 31, 30, 31, 31, 30, 31, 30, 31]\n",
    "    if 1 <= month <= 12:\n",
    "        return days_month[month - 1]"
   ]
  },
  {
   "cell_type": "code",
   "execution_count": 51,
   "id": "17760667-7366-4901-b26d-593534acfccb",
   "metadata": {},
   "outputs": [
    {
     "name": "stdout",
     "output_type": "stream",
     "text": [
      "31\n",
      "29\n",
      "30\n"
     ]
    }
   ],
   "source": [
    "print(get_days(3))\n",
    "print(get_days(2))\n",
    "print(get_days(6))"
   ]
  },
  {
   "cell_type": "markdown",
   "id": "e6edb4c8-480f-48a8-9c22-39c7320f4a40",
   "metadata": {},
   "source": [
    "**Задание 3**"
   ]
  },
  {
   "cell_type": "code",
   "execution_count": 77,
   "id": "34987073-e3d7-430e-b010-b0eaa34ec19b",
   "metadata": {},
   "outputs": [],
   "source": [
    "def is_prime(num):\n",
    "    if num < 2:\n",
    "        return False\n",
    "    for i in range(2, int(num ** 0.5) + 1):\n",
    "        if num % i == 0:\n",
    "            return False\n",
    "    else:\n",
    "        return True"
   ]
  },
  {
   "cell_type": "code",
   "execution_count": 81,
   "id": "f5b5df2f-87d1-4e7a-bdf2-b563a7c5023d",
   "metadata": {},
   "outputs": [
    {
     "name": "stdout",
     "output_type": "stream",
     "text": [
      "False\n",
      "False\n",
      "True\n"
     ]
    }
   ],
   "source": [
    "print(is_prime(1))\n",
    "print(is_prime(10))\n",
    "print(is_prime(17))"
   ]
  }
 ],
 "metadata": {
  "kernelspec": {
   "display_name": "Python 3 (ipykernel)",
   "language": "python",
   "name": "python3"
  },
  "language_info": {
   "codemirror_mode": {
    "name": "ipython",
    "version": 3
   },
   "file_extension": ".py",
   "mimetype": "text/x-python",
   "name": "python",
   "nbconvert_exporter": "python",
   "pygments_lexer": "ipython3",
   "version": "3.12.7"
  }
 },
 "nbformat": 4,
 "nbformat_minor": 5
}
