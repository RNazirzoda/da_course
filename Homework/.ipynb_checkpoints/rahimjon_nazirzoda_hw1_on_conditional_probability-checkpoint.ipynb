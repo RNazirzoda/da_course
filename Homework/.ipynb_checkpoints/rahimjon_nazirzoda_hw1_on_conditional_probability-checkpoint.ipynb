{
 "cells": [
  {
   "cell_type": "markdown",
   "id": "0c7a5fde-1de1-484f-9780-40f369bcc632",
   "metadata": {},
   "source": [
    "# Условная вероятность"
   ]
  },
  {
   "cell_type": "markdown",
   "id": "295f6638-742b-46d8-bdb6-18ae909dba2e",
   "metadata": {},
   "source": [
    "**Рахимджон Назирзода**"
   ]
  },
  {
   "cell_type": "markdown",
   "id": "7b4a9c44-375b-4ba3-8591-7d999498ad40",
   "metadata": {},
   "source": [
    "**Задача 1:**\n",
    "В колоде 52 карты. Вы поочерёдно вытаскиваете из колоды две карты, без возврата. Какова вероятность того, что вы вытащите два туза?"
   ]
  },
  {
   "cell_type": "code",
   "execution_count": 7,
   "id": "24030aa1-8809-4324-baf5-60bbf43d6696",
   "metadata": {},
   "outputs": [
    {
     "name": "stdout",
     "output_type": "stream",
     "text": [
      "Вероятность вытащить два туза: 0.004525\n"
     ]
    }
   ],
   "source": [
    "total_cards = 52\n",
    "total_aces = 4\n",
    "\n",
    "prob_first_ace = total_aces / total_cards\n",
    "\n",
    "remaining_cards = total_cards - 1\n",
    "remaining_aces = total_aces - 1\n",
    "\n",
    "prob_second_ace = remaining_aces / remaining_cards\n",
    "\n",
    "probability_two_aces = prob_first_ace * prob_second_ace\n",
    "\n",
    "print(f'Вероятность вытащить два туза: {probability_two_aces:.6f}')"
   ]
  },
  {
   "cell_type": "markdown",
   "id": "37bf589c-8522-4f1e-bd3b-137161cf5e32",
   "metadata": {},
   "source": [
    "**Задача 2:**\n",
    "Ваш друг просыпается поздно в среднем четыре дня из пяти. Если он просыпается поздно, он опаздывает на работу с вероятностью 70%. Если же он просыпается вовремя, он опаздывает с вероятностью 10%. Какова вероятность того, что ваш друг опоздает на работу?"
   ]
  },
  {
   "cell_type": "code",
   "execution_count": 10,
   "id": "583001e9-27e8-4eec-be30-ab2a63ab4e7f",
   "metadata": {},
   "outputs": [
    {
     "name": "stdout",
     "output_type": "stream",
     "text": [
      "Вероятность опоздать на работу: 0.580000\n"
     ]
    }
   ],
   "source": [
    "p_sleep_late = 4 / 5\n",
    "p_on_time = 1 / 5\n",
    "\n",
    "p_late_given_sleep_late = 0.7\n",
    "p_late_given_on_time = 0.1\n",
    "\n",
    "p_late = (p_late_given_sleep_late * p_sleep_late) + (p_late_given_on_time * p_on_time)\n",
    "print(f'Вероятность опоздать на работу: {p_late:.6f}')"
   ]
  },
  {
   "cell_type": "markdown",
   "id": "13a96832-96ea-4139-8cd2-d657210985c5",
   "metadata": {},
   "source": [
    "**Задача 3:**\n",
    "В мешке содержатся 3 белых шара, 4 зелёных шара и 5 красных шаров. Вы вытаскиваете поочерёдно два шара из мешка, без возврата. Какова вероятность того, что вы вытащите зелёный и красный шары в любом порядке?"
   ]
  },
  {
   "cell_type": "code",
   "execution_count": 15,
   "id": "d0071867-ca1f-492a-87d1-67ff53896500",
   "metadata": {},
   "outputs": [
    {
     "name": "stdout",
     "output_type": "stream",
     "text": [
      "Вероятность вытащить зелёный и красный шары в любом порядке: 0.303030\n"
     ]
    }
   ],
   "source": [
    "white_balloons = 3 \n",
    "green_balloons = 4 \n",
    "red_balloons = 5\n",
    "total_balloons = white_balloons + green_balloons + red_balloons\n",
    "\n",
    "p_green_then_red = (green_balloons / total_balloons) * (red_balloons / (total_balloons - 1))\n",
    "\n",
    "p_red_then_green = (red_balloons / total_balloons) * (green_balloons / (total_balloons - 1))\n",
    "\n",
    "p_green_and_red = p_green_then_red + p_red_then_green\n",
    "\n",
    "print(f'Вероятность вытащить зелёный и красный шары в любом порядке: {p_green_and_red:.6f}')"
   ]
  },
  {
   "cell_type": "markdown",
   "id": "755898d2-5e1b-437a-b120-8b8b634bcec3",
   "metadata": {},
   "source": [
    "**Задача 4:**\n",
    "На фабрике по производству чипсов 98% всех упаковок содержат вкусовые добавки. В рамках испытаний, группе добровольцев было предложено попробовать чипсы и определить имеются ли в них вкусовые добавки. 99% испытуемых попробовав чипсы со вкусовыми добавками ответили \"Да\". При этом, 2.5% испытуемых, которым были поданы чипсы без вкусовых добавок, также ответили \"Да\" . Если попробовав рандомно выбранную упаковку, испытуемый отвечает \"Нет\", какова вероятность того что чипсы действительно не содержат вкусовых добавок?"
   ]
  },
  {
   "cell_type": "code",
   "execution_count": 18,
   "id": "d0ac9db6-1184-4565-9159-5b59beaa9eb9",
   "metadata": {},
   "outputs": [
    {
     "name": "stdout",
     "output_type": "stream",
     "text": [
      "Вероятность того, что чипсы не содержат добавок, если ответ \"Нет\": 0.665529\n"
     ]
    }
   ],
   "source": [
    "p_with_additives = 0.98\n",
    "p_no_additives = 0.02         \n",
    "\n",
    "p_no_given_no_additives = 0.975\n",
    "p_no_given_additives = 0.01    \n",
    "\n",
    "p_no = (p_no_given_no_additives * p_no_additives) + (p_no_given_additives * p_with_additives)\n",
    "\n",
    "p_no_additives_given_no = (p_no_given_no_additives * p_no_additives) / p_no\n",
    "\n",
    "print(f'Вероятность того, что чипсы не содержат добавок, если ответ \\\"Нет\\\": {p_no_additives_given_no:.6f}')\n"
   ]
  },
  {
   "cell_type": "markdown",
   "id": "5c09de7b-2851-4f5f-bfd0-31940f463231",
   "metadata": {},
   "source": [
    "**Задача 5:**\n",
    "Известно что движок некоей модели автомобиля перегревается в 3% случаев. При перегреве движка, в 98% случаев включается индикатор оповещения. Однако, в 1% случаев, индикатор включается без перегрева. Ответьте на следующие вопросы:\n",
    "какова вероятность включения индикатора?\n",
    "если водитель видит включённый индикатор, какова вероятность того что движок действительно перегрелся?"
   ]
  },
  {
   "cell_type": "code",
   "execution_count": 20,
   "id": "39847a9e-0833-4ef9-ae11-3af2c6bf67ad",
   "metadata": {},
   "outputs": [
    {
     "name": "stdout",
     "output_type": "stream",
     "text": [
      "Вероятность включения индикатора p(B): 0.039100\n",
      "Если индикатор включился, вероятность перегрева двигателя p(A|B): 0.751918\n"
     ]
    }
   ],
   "source": [
    "p_A = 0.03\n",
    "p_B_given_A = 0.98  \n",
    "p_B_given_not_A = 0.01\n",
    "\n",
    "p_not_A = 1 - p_A \n",
    "\n",
    "p_B = p_B_given_A * p_A + p_B_given_not_A * p_not_A\n",
    "print(f\"Вероятность включения индикатора p(B): {p_B:.6f}\")\n",
    "\n",
    "p_A_given_B = (p_B_given_A * p_A) / p_B\n",
    "print(f\"Если индикатор включился, вероятность перегрева двигателя p(A|B): {p_A_given_B:.6f}\")"
   ]
  },
  {
   "cell_type": "code",
   "execution_count": null,
   "id": "37ce9a2f-f986-4d4e-8f09-b012ac46ade3",
   "metadata": {},
   "outputs": [],
   "source": []
  },
  {
   "cell_type": "code",
   "execution_count": null,
   "id": "cf35703f-f15b-4754-ad45-b42834c5df93",
   "metadata": {},
   "outputs": [],
   "source": []
  }
 ],
 "metadata": {
  "kernelspec": {
   "display_name": "Python 3 (ipykernel)",
   "language": "python",
   "name": "python3"
  },
  "language_info": {
   "codemirror_mode": {
    "name": "ipython",
    "version": 3
   },
   "file_extension": ".py",
   "mimetype": "text/x-python",
   "name": "python",
   "nbconvert_exporter": "python",
   "pygments_lexer": "ipython3",
   "version": "3.12.7"
  }
 },
 "nbformat": 4,
 "nbformat_minor": 5
}
