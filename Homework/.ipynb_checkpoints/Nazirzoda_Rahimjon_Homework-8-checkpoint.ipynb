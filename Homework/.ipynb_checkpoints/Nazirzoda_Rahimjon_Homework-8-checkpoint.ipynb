{
 "cells": [
  {
   "cell_type": "markdown",
   "id": "26a389f1-9133-487b-bc59-ea3cc50bd3c6",
   "metadata": {},
   "source": [
    "**Назирзода Рахимджон**"
   ]
  },
  {
   "cell_type": "markdown",
   "id": "2d18f759-0c57-4bcb-855f-6e44169d93eb",
   "metadata": {},
   "source": [
    "**Задание 1**"
   ]
  },
  {
   "cell_type": "code",
   "execution_count": 143,
   "id": "256a07c8-c969-4eb8-818b-85e619dc3520",
   "metadata": {},
   "outputs": [],
   "source": [
    "dict1 = {'a': 100, 'z': 333, 'b': 200, 'c': 300, 'd': 45, 'e': 98, 't': 76, 'q': 34, 'f': 90, 'm': 230} \n",
    "dict2 = {'a': 300, 'b': 200, 'd': 400, 't': 777, 'c': 12, 'p': 123, 'w': 111, 'z': 666}"
   ]
  },
  {
   "cell_type": "code",
   "execution_count": 145,
   "id": "1c608f62-aab9-4ac5-817b-710f009b8ff5",
   "metadata": {},
   "outputs": [],
   "source": [
    "result = {}\n",
    "for i in dict1.keys() | dict2.keys():\n",
    "    result[i] = dict1.get(i, 0) + dict2.get(i, 0)\n"
   ]
  },
  {
   "cell_type": "code",
   "execution_count": 147,
   "id": "51aaf364-ed26-4f39-8d00-39e499e6a466",
   "metadata": {},
   "outputs": [
    {
     "data": {
      "text/plain": [
       "{'c': 312,\n",
       " 'a': 400,\n",
       " 'p': 123,\n",
       " 'e': 98,\n",
       " 'w': 111,\n",
       " 'd': 445,\n",
       " 'z': 999,\n",
       " 't': 853,\n",
       " 'm': 230,\n",
       " 'f': 90,\n",
       " 'b': 400,\n",
       " 'q': 34}"
      ]
     },
     "execution_count": 147,
     "metadata": {},
     "output_type": "execute_result"
    }
   ],
   "source": [
    "result"
   ]
  },
  {
   "cell_type": "markdown",
   "id": "58753e73-cbe7-4b9a-9c27-86c481c9b87d",
   "metadata": {},
   "source": [
    "**Задание 2**"
   ]
  },
  {
   "cell_type": "code",
   "execution_count": 160,
   "id": "9be18024-865e-434e-bf13-fce3995099d4",
   "metadata": {},
   "outputs": [],
   "source": [
    "tuples = [(1, 2, 3), (4, 5, 6), (7, 8, 9), (10, 11, 12), (13, 14, 15), (16, 17, 18), \n",
    "(19, 20, 21), (22, 23, 24), (25, 26, 27), (28, 29, 30), (31, 32, 33), (34, 35, 36)]"
   ]
  },
  {
   "cell_type": "code",
   "execution_count": 166,
   "id": "043aab96-21ef-4f39-a34a-801c49a9aa84",
   "metadata": {},
   "outputs": [],
   "source": [
    "result = {t[0]: (t[1], t[2]) \n",
    "          for t in tuples}"
   ]
  },
  {
   "cell_type": "code",
   "execution_count": 168,
   "id": "6a5f7865-12ce-4805-b634-c8e9394a71d8",
   "metadata": {},
   "outputs": [
    {
     "data": {
      "text/plain": [
       "{1: (2, 3),\n",
       " 4: (5, 6),\n",
       " 7: (8, 9),\n",
       " 10: (11, 12),\n",
       " 13: (14, 15),\n",
       " 16: (17, 18),\n",
       " 19: (20, 21),\n",
       " 22: (23, 24),\n",
       " 25: (26, 27),\n",
       " 28: (29, 30),\n",
       " 31: (32, 33),\n",
       " 34: (35, 36)}"
      ]
     },
     "execution_count": 168,
     "metadata": {},
     "output_type": "execute_result"
    }
   ],
   "source": [
    "result"
   ]
  },
  {
   "cell_type": "markdown",
   "id": "3c8991ae-faf4-4552-beaa-78c02d053ec2",
   "metadata": {},
   "source": [
    "**Задание 3**"
   ]
  },
  {
   "cell_type": "code",
   "execution_count": 176,
   "id": "9b7e2dbb-73bf-4d5f-a89a-2a395e13a593",
   "metadata": {},
   "outputs": [],
   "source": [
    "users = [{'name': 'Todd', 'phone': '551-1414', 'email': 'todd@gmail.com'},\n",
    "         {'name': 'Helga', 'phone': '555-1618'},\n",
    "         {'name': 'Olivia', 'phone': '449-3141', 'email': ''},\n",
    "         {'name': 'LJ', 'phone': '555-2718', 'email': 'lj@gmail.net'},\n",
    "         {'name': 'Ruslan', 'phone': '422-145-9098', 'email': 'rus-lan.cha@yandex.ru'},\n",
    "         {'name': 'John', 'phone': '233-421-32', 'email': ''},\n",
    "         {'name': 'Lara', 'phone': '+7998-676-2532', 'email': 'g.lara89@gmail.com'},\n",
    "         {'name': 'Alina', 'phone': '+7948-799-2434'},\n",
    "         {'name': 'Robert', 'phone': '420-2011', 'email': ''},\n",
    "         {'name': 'Riyad', 'phone': '128-8890-128', 'email': 'r.mahrez@mail.net'},\n",
    "         {'name': 'Khabib', 'phone': '+7995-600-9080', 'email': 'kh.nurmag@gmail.com'},\n",
    "         {'name': 'Olga', 'phone': '6449-314-1213', 'email': ''},\n",
    "         {'name': 'Roman', 'phone': '+7459-145-8059'},\n",
    "         {'name': 'Maria', 'phone': '12-129-3148', 'email': 'm.sharapova@gmail.com'},\n",
    "         {'name': 'Fedor', 'phone': '+7445-341-0545', 'email': ''},\n",
    "         {'name': 'Tim', 'phone': '242-449-3141', 'email': 'timm.ggg@yandex.ru'}]"
   ]
  },
  {
   "cell_type": "code",
   "execution_count": 178,
   "id": "fbb21b19-dc05-4512-baf4-813d2ff87417",
   "metadata": {},
   "outputs": [
    {
     "name": "stdout",
     "output_type": "stream",
     "text": [
      "1 {'name': 'Todd', 'phone': '551-1414', 'email': 'todd@gmail.com'}\n",
      "2 {'name': 'Helga', 'phone': '555-1618'}\n",
      "3 {'name': 'Olivia', 'phone': '449-3141', 'email': ''}\n",
      "4 {'name': 'LJ', 'phone': '555-2718', 'email': 'lj@gmail.net'}\n",
      "5 {'name': 'Ruslan', 'phone': '422-145-9098', 'email': 'rus-lan.cha@yandex.ru'}\n",
      "6 {'name': 'John', 'phone': '233-421-32', 'email': ''}\n",
      "7 {'name': 'Lara', 'phone': '+7998-676-2532', 'email': 'g.lara89@gmail.com'}\n",
      "8 {'name': 'Alina', 'phone': '+7948-799-2434'}\n",
      "9 {'name': 'Robert', 'phone': '420-2011', 'email': ''}\n",
      "10 {'name': 'Riyad', 'phone': '128-8890-128', 'email': 'r.mahrez@mail.net'}\n",
      "11 {'name': 'Khabib', 'phone': '+7995-600-9080', 'email': 'kh.nurmag@gmail.com'}\n",
      "12 {'name': 'Olga', 'phone': '6449-314-1213', 'email': ''}\n",
      "13 {'name': 'Roman', 'phone': '+7459-145-8059'}\n",
      "14 {'name': 'Maria', 'phone': '12-129-3148', 'email': 'm.sharapova@gmail.com'}\n",
      "15 {'name': 'Fedor', 'phone': '+7445-341-0545', 'email': ''}\n",
      "16 {'name': 'Tim', 'phone': '242-449-3141', 'email': 'timm.ggg@yandex.ru'}\n"
     ]
    }
   ],
   "source": [
    "for i, dict1 in enumerate(users, 1):\n",
    "    print(i, dict1)"
   ]
  },
  {
   "cell_type": "code",
   "execution_count": 242,
   "id": "ba1d6ec5-a7f0-4159-b592-d4a83562695f",
   "metadata": {},
   "outputs": [],
   "source": [
    "result = sorted(user['name']\n",
    "      for user in users\n",
    "      if 'email' not in user or not user['email'])\n",
    "\n"
   ]
  },
  {
   "cell_type": "code",
   "execution_count": 244,
   "id": "a7629e74-1701-4655-93b3-42185ebf623b",
   "metadata": {},
   "outputs": [
    {
     "data": {
      "text/plain": [
       "['Alina', 'Fedor', 'Helga', 'John', 'Olga', 'Olivia', 'Robert', 'Roman']"
      ]
     },
     "execution_count": 244,
     "metadata": {},
     "output_type": "execute_result"
    }
   ],
   "source": [
    "result"
   ]
  },
  {
   "cell_type": "markdown",
   "id": "fa528a7e-bb7a-4725-a070-8d3d4896e204",
   "metadata": {},
   "source": [
    "**Задание 4**"
   ]
  },
  {
   "cell_type": "code",
   "execution_count": 3,
   "id": "75146c6f-b7ae-457a-bcd6-8b6c69241411",
   "metadata": {},
   "outputs": [],
   "source": [
    "users = [{'name': 'Todd', 'phone': '551-1414', 'email': 'todd@gmail.com'},\n",
    "         {'name': 'Helga', 'phone': '555-1618'},\n",
    "         {'name': 'Olivia', 'phone': '449-3141', 'email': ''},\n",
    "         {'name': 'LJ', 'phone': '555-2718', 'email': 'lj@gmail.net'},\n",
    "         {'name': 'Ruslan', 'phone': '422-145-9098', 'email': 'rus-lan.cha@yandex.ru'},\n",
    "         {'name': 'John', 'phone': '233-421-32', 'email': ''},\n",
    "         {'name': 'Lara', 'phone': '+7998-676-2532', 'email': 'g.lara89@gmail.com'},\n",
    "         {'name': 'Alina', 'phone': '+7948-799-2434'},\n",
    "         {'name': 'Robert', 'phone': '420-2011', 'email': ''},\n",
    "         {'name': 'Riyad', 'phone': '128-8890-128', 'email': 'r.mahrez@mail.net'},\n",
    "         {'name': 'Khabib', 'phone': '+7995-600-9080', 'email': 'kh.nurmag@gmail.com'},\n",
    "         {'name': 'Olga', 'phone': '6449-314-1213', 'email': ''},\n",
    "         {'name': 'Roman', 'phone': '+7459-145-8059'},\n",
    "         {'name': 'Maria', 'phone': '12-129-3148', 'email': 'm.sharapova@gmail.com'},\n",
    "         {'name': 'Fedor', 'phone': '+7445-341-0545', 'email': ''},\n",
    "         {'name': 'Tim', 'phone': '242-449-3141', 'email': 'timm.ggg@yandex.ru'}]"
   ]
  },
  {
   "cell_type": "code",
   "execution_count": 5,
   "id": "2fac5f98-7a52-4144-bfb5-e86775289f36",
   "metadata": {},
   "outputs": [
    {
     "name": "stdout",
     "output_type": "stream",
     "text": [
      "1 {'name': 'Todd', 'phone': '551-1414', 'email': 'todd@gmail.com'}\n",
      "2 {'name': 'Helga', 'phone': '555-1618'}\n",
      "3 {'name': 'Olivia', 'phone': '449-3141', 'email': ''}\n",
      "4 {'name': 'LJ', 'phone': '555-2718', 'email': 'lj@gmail.net'}\n",
      "5 {'name': 'Ruslan', 'phone': '422-145-9098', 'email': 'rus-lan.cha@yandex.ru'}\n",
      "6 {'name': 'John', 'phone': '233-421-32', 'email': ''}\n",
      "7 {'name': 'Lara', 'phone': '+7998-676-2532', 'email': 'g.lara89@gmail.com'}\n",
      "8 {'name': 'Alina', 'phone': '+7948-799-2434'}\n",
      "9 {'name': 'Robert', 'phone': '420-2011', 'email': ''}\n",
      "10 {'name': 'Riyad', 'phone': '128-8890-128', 'email': 'r.mahrez@mail.net'}\n",
      "11 {'name': 'Khabib', 'phone': '+7995-600-9080', 'email': 'kh.nurmag@gmail.com'}\n",
      "12 {'name': 'Olga', 'phone': '6449-314-1213', 'email': ''}\n",
      "13 {'name': 'Roman', 'phone': '+7459-145-8059'}\n",
      "14 {'name': 'Maria', 'phone': '12-129-3148', 'email': 'm.sharapova@gmail.com'}\n",
      "15 {'name': 'Fedor', 'phone': '+7445-341-0545', 'email': ''}\n",
      "16 {'name': 'Tim', 'phone': '242-449-3141', 'email': 'timm.ggg@yandex.ru'}\n"
     ]
    }
   ],
   "source": [
    "for i, dict1 in enumerate(users, 1):\n",
    "    print(i, dict1)"
   ]
  },
  {
   "cell_type": "code",
   "execution_count": 7,
   "id": "3f416899-49f4-46c8-a90a-d7bf44f36cc4",
   "metadata": {},
   "outputs": [
    {
     "ename": "KeyError",
     "evalue": "'email'",
     "output_type": "error",
     "traceback": [
      "\u001b[1;31m---------------------------------------------------------------------------\u001b[0m",
      "\u001b[1;31mKeyError\u001b[0m                                  Traceback (most recent call last)",
      "Cell \u001b[1;32mIn[7], line 1\u001b[0m\n\u001b[1;32m----> 1\u001b[0m result \u001b[38;5;241m=\u001b[39m {user[\u001b[38;5;124m'\u001b[39m\u001b[38;5;124mname\u001b[39m\u001b[38;5;124m'\u001b[39m]:user[\u001b[38;5;124m'\u001b[39m\u001b[38;5;124memail\u001b[39m\u001b[38;5;124m'\u001b[39m] \u001b[38;5;28;01mfor\u001b[39;00m user \u001b[38;5;129;01min\u001b[39;00m users \u001b[38;5;28;01mif\u001b[39;00m user[\u001b[38;5;124m'\u001b[39m\u001b[38;5;124memail\u001b[39m\u001b[38;5;124m'\u001b[39m]\u001b[38;5;241m.\u001b[39mendswith(\u001b[38;5;124m\"\u001b[39m\u001b[38;5;124m.com\u001b[39m\u001b[38;5;124m\"\u001b[39m)}\n",
      "\u001b[1;31mKeyError\u001b[0m: 'email'"
     ]
    }
   ],
   "source": [
    "result = {user['name']:user['email'] for user in users if user['email'].endswith(\".com\")}"
   ]
  },
  {
   "cell_type": "code",
   "execution_count": null,
   "id": "9b800218-8142-406b-9987-6af8495086f2",
   "metadata": {},
   "outputs": [],
   "source": []
  },
  {
   "cell_type": "code",
   "execution_count": null,
   "id": "206acf86-06a6-435e-a963-4ab787ebbed4",
   "metadata": {},
   "outputs": [],
   "source": []
  },
  {
   "cell_type": "code",
   "execution_count": null,
   "id": "029d5425-c66e-4a63-87af-3f011bb840bb",
   "metadata": {},
   "outputs": [],
   "source": []
  }
 ],
 "metadata": {
  "kernelspec": {
   "display_name": "Python 3 (ipykernel)",
   "language": "python",
   "name": "python3"
  },
  "language_info": {
   "codemirror_mode": {
    "name": "ipython",
    "version": 3
   },
   "file_extension": ".py",
   "mimetype": "text/x-python",
   "name": "python",
   "nbconvert_exporter": "python",
   "pygments_lexer": "ipython3",
   "version": "3.12.7"
  }
 },
 "nbformat": 4,
 "nbformat_minor": 5
}
