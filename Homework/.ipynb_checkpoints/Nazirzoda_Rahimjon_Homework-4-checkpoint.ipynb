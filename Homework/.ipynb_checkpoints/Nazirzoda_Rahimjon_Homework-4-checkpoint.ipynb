{
 "cells": [
  {
   "cell_type": "markdown",
   "id": "95479e70-b286-454b-a0f1-e9441b571b32",
   "metadata": {},
   "source": [
    "**Назирзода Рахимджон**"
   ]
  },
  {
   "cell_type": "markdown",
   "id": "5a5887d6-8ab0-4266-a7d7-7dccb04326e5",
   "metadata": {},
   "source": [
    "**Задание - 1**"
   ]
  },
  {
   "cell_type": "markdown",
   "id": "9710a426-a1cb-49b2-8ce2-1e42017f4ebd",
   "metadata": {},
   "source": [
    "**Пример 1**"
   ]
  },
  {
   "cell_type": "code",
   "execution_count": 6,
   "id": "a243da5d-d3ff-4473-a0f8-c0181ef6af24",
   "metadata": {},
   "outputs": [
    {
     "name": "stdin",
     "output_type": "stream",
     "text": [
      "Ввод:  49\n"
     ]
    },
    {
     "name": "stdout",
     "output_type": "stream",
     "text": [
      "1 2 0 4\n",
      "7\n"
     ]
    }
   ],
   "source": [
    "coin = int(input('Ввод: '))\n",
    "\n",
    "count_25  = coin // 25\n",
    "coin = coin % 25\n",
    "\n",
    "count_10  = coin // 10\n",
    "coin = coin % 10\n",
    "\n",
    "count_5  = coin // 5\n",
    "coin = coin % 5\n",
    "\n",
    "\n",
    "print(count_25, count_10, count_5, coin)\n",
    "print(count_25 + count_10 + count_5 + coin)"
   ]
  },
  {
   "cell_type": "markdown",
   "id": "c86155bb-ed25-481a-862f-4275dd4ee082",
   "metadata": {},
   "source": [
    "**Пример 2**"
   ]
  },
  {
   "cell_type": "code",
   "execution_count": 8,
   "id": "85d65b70-9cd7-40e0-bf13-f459f52227a6",
   "metadata": {},
   "outputs": [
    {
     "name": "stdin",
     "output_type": "stream",
     "text": [
      "Ввод:  50\n"
     ]
    },
    {
     "name": "stdout",
     "output_type": "stream",
     "text": [
      "2 0 0 0\n",
      "2\n"
     ]
    }
   ],
   "source": [
    "coin = int(input('Ввод: '))\n",
    "\n",
    "count_25  = coin // 25\n",
    "coin = coin % 25\n",
    "\n",
    "count_10  = coin // 10\n",
    "coin = coin % 10\n",
    "\n",
    "count_5  = coin // 5\n",
    "coin = coin % 5\n",
    "\n",
    "\n",
    "print(count_25, count_10, count_5, coin)\n",
    "print(count_25 + count_10 + count_5 + coin)"
   ]
  },
  {
   "cell_type": "markdown",
   "id": "3a29959d-767f-4c51-9fd5-bcb764d28ba9",
   "metadata": {},
   "source": [
    "**Задание - 2**"
   ]
  },
  {
   "cell_type": "code",
   "execution_count": 27,
   "id": "7e2b6805-c0ce-4ecf-98e8-a3f5364160b1",
   "metadata": {},
   "outputs": [
    {
     "name": "stdin",
     "output_type": "stream",
     "text": [
      "Ввод числа:  5\n"
     ]
    },
    {
     "name": "stdout",
     "output_type": "stream",
     "text": [
      "1 +\n",
      "2 ++\n",
      "3 ++\n",
      "4 +++\n",
      "5 ++\n"
     ]
    }
   ],
   "source": [
    "num = int(input('Ввод числа: '))\n",
    "for i in range(1, num + 1):\n",
    "    cnt = 0\n",
    "    for i2 in range(1, i + 1):\n",
    "        if i % i2 == 0:\n",
    "            cnt += 1\n",
    "    print(f'{i} {'+' * cnt}')"
   ]
  },
  {
   "cell_type": "markdown",
   "id": "8ff6488e-80ab-405d-a0ce-12c57fe4b721",
   "metadata": {},
   "source": [
    "**Задание - 3**"
   ]
  },
  {
   "cell_type": "code",
   "execution_count": 81,
   "id": "8cf872ac-479c-4cea-acbd-f5c861fd6526",
   "metadata": {},
   "outputs": [
    {
     "name": "stdin",
     "output_type": "stream",
     "text": [
      "Введите текст:  СтрокаТекста\n"
     ]
    },
    {
     "name": "stdout",
     "output_type": "stream",
     "text": [
      "12\n",
      "СтрокаТекстаСтрокаТекстаСтрокаТекста\n",
      "Стр\n",
      "атскеТакортС\n",
      "трокаТекста\n",
      "т\n",
      "тоаеса\n"
     ]
    }
   ],
   "source": [
    "s = input('Введите текст: ')\n",
    "n = len(s)\n",
    "\n",
    "print(n)\n",
    "print(s*3)\n",
    "print(s[:3])\n",
    "print(s[::-1])\n",
    "print(s[1:14])\n",
    "print(s[1:7:12])\n",
    "print(s[1::2])"
   ]
  },
  {
   "cell_type": "markdown",
   "id": "ad5a0653-b16f-4739-a0bd-fec37f5856df",
   "metadata": {},
   "source": [
    "**Задание - 4**"
   ]
  },
  {
   "cell_type": "code",
   "execution_count": 171,
   "id": "4a0b7cfa-2baa-4647-aa3f-bbf452998496",
   "metadata": {},
   "outputs": [
    {
     "name": "stdin",
     "output_type": "stream",
     "text": [
      "Введите имя и фамилию:  Евгений Пушкин\n"
     ]
    },
    {
     "name": "stdout",
     "output_type": "stream",
     "text": [
      "True\n"
     ]
    }
   ],
   "source": [
    "s = input('Введите имя и фамилию: ')\n",
    "\n",
    "print(s.istitle())"
   ]
  },
  {
   "cell_type": "code",
   "execution_count": 173,
   "id": "8fdd4928-ad92-43ca-b1a1-52f1a26dc92e",
   "metadata": {},
   "outputs": [
    {
     "name": "stdin",
     "output_type": "stream",
     "text": [
      "Введите имя и фамилию:  евгений Пушкин\n"
     ]
    },
    {
     "name": "stdout",
     "output_type": "stream",
     "text": [
      "False\n"
     ]
    }
   ],
   "source": [
    "s = input('Введите имя и фамилию: ')\n",
    "\n",
    "print(s.istitle())"
   ]
  },
  {
   "cell_type": "markdown",
   "id": "863c26fd-a3d0-4caf-8120-d5f3d2f6d8af",
   "metadata": {},
   "source": [
    "**Задание - 5**"
   ]
  },
  {
   "cell_type": "code",
   "execution_count": 219,
   "id": "4782444a-25d6-470a-95ba-913bbadded00",
   "metadata": {},
   "outputs": [
    {
     "name": "stdin",
     "output_type": "stream",
     "text": [
      "Введите текст:  В данной СТРОКЕ есть маленькие БуКвЫ\n"
     ]
    },
    {
     "name": "stdout",
     "output_type": "stream",
     "text": [
      "21\n"
     ]
    }
   ],
   "source": [
    "s = input('Введите текст: ')\n",
    "cnt = 0\n",
    "for i in s:\n",
    "    if i.islower():\n",
    "        cnt += 1\n",
    "\n",
    "print(cnt)"
   ]
  },
  {
   "cell_type": "markdown",
   "id": "ad1d890f-2be5-49fb-8aff-fb175cde2646",
   "metadata": {},
   "source": [
    "**Задание - 6**"
   ]
  },
  {
   "cell_type": "markdown",
   "id": "88b35132-651d-45e5-9a3e-a251894a7c4a",
   "metadata": {},
   "source": [
    "**Пример 1**"
   ]
  },
  {
   "cell_type": "code",
   "execution_count": 209,
   "id": "bf79c4c2-ff6b-4e6d-a4c0-3e0ece499ae0",
   "metadata": {},
   "outputs": [
    {
     "name": "stdin",
     "output_type": "stream",
     "text": [
      "Введите текст:  Тут примерно три слова\n"
     ]
    },
    {
     "name": "stdout",
     "output_type": "stream",
     "text": [
      "4\n"
     ]
    }
   ],
   "source": [
    "s = input('Введите текст: ') \n",
    "s = len(s.split())\n",
    "\n",
    "print(s)\n"
   ]
  },
  {
   "cell_type": "markdown",
   "id": "326e7e39-3714-4dea-994e-4eb09d55b986",
   "metadata": {},
   "source": [
    "**Пример 2**"
   ]
  },
  {
   "cell_type": "code",
   "execution_count": 207,
   "id": "c77b5893-a17b-4f39-91df-40ffaf7ad0b5",
   "metadata": {},
   "outputs": [
    {
     "name": "stdin",
     "output_type": "stream",
     "text": [
      "Введите текст:  Слово\n"
     ]
    },
    {
     "name": "stdout",
     "output_type": "stream",
     "text": [
      "1\n"
     ]
    }
   ],
   "source": [
    "s1 = input('Введите текст: ') \n",
    "s1 = len(s1.split())\n",
    "\n",
    "print(s)"
   ]
  }
 ],
 "metadata": {
  "kernelspec": {
   "display_name": "Python 3 (ipykernel)",
   "language": "python",
   "name": "python3"
  },
  "language_info": {
   "codemirror_mode": {
    "name": "ipython",
    "version": 3
   },
   "file_extension": ".py",
   "mimetype": "text/x-python",
   "name": "python",
   "nbconvert_exporter": "python",
   "pygments_lexer": "ipython3",
   "version": "3.12.7"
  }
 },
 "nbformat": 4,
 "nbformat_minor": 5
}
