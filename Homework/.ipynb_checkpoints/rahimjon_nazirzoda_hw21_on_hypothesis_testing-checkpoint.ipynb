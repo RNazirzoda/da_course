{
 "cells": [
  {
   "cell_type": "markdown",
   "id": "0c7a5fde-1de1-484f-9780-40f369bcc632",
   "metadata": {},
   "source": [
    "# Выборочные распределения"
   ]
  },
  {
   "cell_type": "markdown",
   "id": "295f6638-742b-46d8-bdb6-18ae909dba2e",
   "metadata": {},
   "source": [
    "**Рахимджон Назирзода**"
   ]
  },
  {
   "cell_type": "code",
   "execution_count": 1,
   "id": "5b4bc9a5-7381-4951-ba49-021753e76de3",
   "metadata": {},
   "outputs": [],
   "source": [
    "import numpy as np\n",
    "import scipy.stats as stats"
   ]
  },
  {
   "cell_type": "markdown",
   "id": "7b4a9c44-375b-4ba3-8591-7d999498ad40",
   "metadata": {},
   "source": [
    "**Задача 1:**\n",
    "Производитель светодиодных лампочек заявляет что их продукция имеет средний срок службы в 2000 часов. Клиент считает что срок службы лампочек меньше заявляемого компанией. Чтобы проверить это клиент купил 50 лампочек производства этой компании и их средний срок службы составил 1980 часов, со стандартным отклонением в 66 часов. Проверьте гипотезы и вынесите заключение."
   ]
  },
  {
   "cell_type": "code",
   "execution_count": 12,
   "id": "509098ea-3403-4348-a049-967866141e4d",
   "metadata": {},
   "outputs": [
    {
     "name": "stdout",
     "output_type": "stream",
     "text": [
      "0.018563252582334603\n"
     ]
    }
   ],
   "source": [
    "n = 50\n",
    "x = 1980\n",
    "mu = 2000\n",
    "sigma = 66     \n",
    "alpha = 0.05 \n",
    "\n",
    "h0: mu = 2000\n",
    "h1: mu < 2000\n",
    "\n",
    "t_stat = (x - mu) / (sigma / (n ** 0.5))\n",
    "\n",
    "p_value = stats.t.cdf(t_stat, df=n-1)\n",
    "print(p_value)"
   ]
  },
  {
   "cell_type": "code",
   "execution_count": 14,
   "id": "b65dc584-3b58-494b-810f-4b19146977d2",
   "metadata": {},
   "outputs": [
    {
     "name": "stdout",
     "output_type": "stream",
     "text": [
      "Отвергаем нулевую гипотезу\n"
     ]
    }
   ],
   "source": [
    "if p_value < alpha:\n",
    "  print(\"Отвергаем нулевую гипотезу\")\n",
    "else:\n",
    "  print(\"Не можем отвергнуть нулевую гипотезу\")"
   ]
  },
  {
   "cell_type": "markdown",
   "id": "37bf589c-8522-4f1e-bd3b-137161cf5e32",
   "metadata": {},
   "source": [
    "**Задача 2:**\n",
    "Фасовочная машина заполняет мешки рисом в среднем по 1000гр на мешок и стандартным отклонением в 5гр. У производителя есть подозрение, что машина фасует рис в среднем больше требуемого. Он поручил сделать выборку из 100 мешков и их средний вес оказался равным 1003гр. Оправданы ли подозрения производителя?"
   ]
  },
  {
   "cell_type": "code",
   "execution_count": 16,
   "id": "583001e9-27e8-4eec-be30-ab2a63ab4e7f",
   "metadata": {},
   "outputs": [
    {
     "name": "stdout",
     "output_type": "stream",
     "text": [
      "9.865877004244794e-10\n"
     ]
    }
   ],
   "source": [
    "x = 1003  \n",
    "mu = 1000   \n",
    "sigma = 5     \n",
    "n = 100       \n",
    "alpha = 0.05  \n",
    "\n",
    "z_stat = (x - mu) / (sigma / (n ** 0.5))\n",
    "\n",
    "p_value = 1 - stats.norm.cdf(z_stat)\n",
    "\n",
    "print(p_value)"
   ]
  },
  {
   "cell_type": "code",
   "execution_count": 18,
   "id": "6280151c-2e98-4217-b86b-c3d2fff33797",
   "metadata": {},
   "outputs": [
    {
     "name": "stdout",
     "output_type": "stream",
     "text": [
      "Отвергаем нулевую гипотезу\n"
     ]
    }
   ],
   "source": [
    "if p_value < alpha:\n",
    "  print(\"Отвергаем нулевую гипотезу\")\n",
    "else:\n",
    "  print(\"Не можем отвергнуть нулевую гипотезу\")"
   ]
  },
  {
   "cell_type": "markdown",
   "id": "13a96832-96ea-4139-8cd2-d657210985c5",
   "metadata": {},
   "source": [
    "**Задача 3:**\n",
    "Утверждается что домашние коты живут в среднем 15.7 лет. Учёный решил проверить истинность этого утверждения и замерил срок жизни 40 домашних котов в своём городе. Средний срок жизни котов в выборке оказался равным 16.5 годам со стандартным отклонением в 1.6 лет. Значит ли это, что коты в среднем живут дольше чем принято считать?"
   ]
  },
  {
   "cell_type": "code",
   "execution_count": 22,
   "id": "d0071867-ca1f-492a-87d1-67ff53896500",
   "metadata": {},
   "outputs": [
    {
     "name": "stdout",
     "output_type": "stream",
     "text": [
      "0.9984862887503105\n"
     ]
    }
   ],
   "source": [
    "n = 40\n",
    "mu = 15.7  \n",
    "x = 16.5  \n",
    "s = 1.6  \n",
    "\n",
    "h0: mu = 15.7\n",
    "h1: mu > 15.7\n",
    "\n",
    "t_stat = (x - mu) / (s / (n ** 0.5))\n",
    "\n",
    "p_value = stats.t.cdf(t_stat, df=n-1)\n",
    "print(p_value)"
   ]
  },
  {
   "cell_type": "code",
   "execution_count": 24,
   "id": "9d30104c-5eda-4581-bc31-00b174e95d5a",
   "metadata": {},
   "outputs": [
    {
     "name": "stdout",
     "output_type": "stream",
     "text": [
      "Не можем отвергнуть нулевую гипотезу\n"
     ]
    }
   ],
   "source": [
    "if p_value < alpha:\n",
    "  print(\"Отвергаем нулевую гипотезу\")\n",
    "else:\n",
    "  print(\"Не можем отвергнуть нулевую гипотезу\")"
   ]
  },
  {
   "cell_type": "markdown",
   "id": "755898d2-5e1b-437a-b120-8b8b634bcec3",
   "metadata": {},
   "source": [
    "**Задача 4:**\n",
    "Здоровый новорожденный весит в среднем 3.40кг со стандартным отклонением в 0.45кг. Выборка из 49 новорожденных была взвешена и средний вес оказался равным 3.29кг. Проверьте следующие гипотезы: Ho:μ=7.5 и Ha:μ<7.5"
   ]
  },
  {
   "cell_type": "code",
   "execution_count": 26,
   "id": "d0ac9db6-1184-4565-9159-5b59beaa9eb9",
   "metadata": {},
   "outputs": [
    {
     "name": "stdout",
     "output_type": "stream",
     "text": [
      "0.3162627549602176\n"
     ]
    }
   ],
   "source": [
    "n = 49\n",
    "mu = 3.40  \n",
    "x = 3.29  \n",
    "sigma = 0.45\n",
    "\n",
    "h0: mu = 7.5\n",
    "h1: mu < 7.5\n",
    "\n",
    "t_stat = (x - mu) / (s / (n ** 0.5))\n",
    "\n",
    "p_value = stats.t.cdf(t_stat, df=n-1)\n",
    "print(p_value)"
   ]
  },
  {
   "cell_type": "code",
   "execution_count": 28,
   "id": "58ae92d5-bc2c-48cb-a66c-e802ff403620",
   "metadata": {},
   "outputs": [
    {
     "name": "stdout",
     "output_type": "stream",
     "text": [
      "Не можем отвергнуть нулевую гипотезу\n"
     ]
    }
   ],
   "source": [
    "if p_value < alpha:\n",
    "  print(\"Отвергаем нулевую гипотезу\")\n",
    "else:\n",
    "  print(\"Не можем отвергнуть нулевую гипотезу\")"
   ]
  },
  {
   "cell_type": "markdown",
   "id": "5c09de7b-2851-4f5f-bfd0-31940f463231",
   "metadata": {},
   "source": [
    "**Задача 5:**\n",
    "В популяции средний показатель IQ составляет 100 со стандартным отклонением 15. Команда ученых хочет проверить новое лекарство, чтобы выяснить, оказывает ли оно положительное или отрицательное влияние на интеллект, или же не оказывает никакого эффекта. В выборке из 30 участников, которые принимали лекарство, средний показатель IQ составил 140. Повлияло ли лекарство на интеллект?"
   ]
  },
  {
   "cell_type": "code",
   "execution_count": 38,
   "id": "39847a9e-0833-4ef9-ae11-3af2c6bf67ad",
   "metadata": {},
   "outputs": [
    {
     "name": "stdout",
     "output_type": "stream",
     "text": [
      "6.661338147750939e-15\n"
     ]
    }
   ],
   "source": [
    "n = 30\n",
    "mu = 100  \n",
    "x = 140  \n",
    "sigma = 15  \n",
    "\n",
    "t_stat = (x - mu) / (sigma / (n ** 0.5))\n",
    "\n",
    "p_value = 2 * (1 - stats.t.cdf(abs(t_stat), df=n-1))\n",
    "\n",
    "print(p_value)\n"
   ]
  },
  {
   "cell_type": "code",
   "execution_count": 40,
   "id": "cf35703f-f15b-4754-ad45-b42834c5df93",
   "metadata": {},
   "outputs": [
    {
     "name": "stdout",
     "output_type": "stream",
     "text": [
      "Отвергаем нулевую гипотезу\n"
     ]
    }
   ],
   "source": [
    "if p_value < alpha:\n",
    "  print(\"Отвергаем нулевую гипотезу\")\n",
    "else:\n",
    "  print(\"Не можем отвергнуть нулевую гипотезу\")"
   ]
  },
  {
   "cell_type": "code",
   "execution_count": null,
   "id": "27a41b2b-a235-49a9-8c80-7fad028eb6ff",
   "metadata": {},
   "outputs": [],
   "source": []
  }
 ],
 "metadata": {
  "kernelspec": {
   "display_name": "Python 3 (ipykernel)",
   "language": "python",
   "name": "python3"
  },
  "language_info": {
   "codemirror_mode": {
    "name": "ipython",
    "version": 3
   },
   "file_extension": ".py",
   "mimetype": "text/x-python",
   "name": "python",
   "nbconvert_exporter": "python",
   "pygments_lexer": "ipython3",
   "version": "3.12.7"
  }
 },
 "nbformat": 4,
 "nbformat_minor": 5
}
