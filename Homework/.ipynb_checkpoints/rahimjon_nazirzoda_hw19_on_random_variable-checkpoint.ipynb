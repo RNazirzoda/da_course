{
 "cells": [
  {
   "cell_type": "markdown",
   "id": "0c7a5fde-1de1-484f-9780-40f369bcc632",
   "metadata": {},
   "source": [
    "# Непрерывные случайные величины"
   ]
  },
  {
   "cell_type": "markdown",
   "id": "295f6638-742b-46d8-bdb6-18ae909dba2e",
   "metadata": {},
   "source": [
    "**Рахимджон Назирзода**"
   ]
  },
  {
   "cell_type": "code",
   "execution_count": 14,
   "id": "5b4bc9a5-7381-4951-ba49-021753e76de3",
   "metadata": {},
   "outputs": [],
   "source": [
    "import numpy as np\n",
    "import seaborn as sns\n",
    "import matplotlib.pyplot as plt\n",
    "from scipy.stats import norm"
   ]
  },
  {
   "cell_type": "markdown",
   "id": "7b4a9c44-375b-4ba3-8591-7d999498ad40",
   "metadata": {},
   "source": [
    "**Задача 1:**\n",
    "Есть переменная X с нормальным распределением. Если стандартизированное значение X равно 1.27 (z = 1.27), то какова вероятность \n",
    "P(Z≤1.27)?"
   ]
  },
  {
   "cell_type": "code",
   "execution_count": 5,
   "id": "509098ea-3403-4348-a049-967866141e4d",
   "metadata": {},
   "outputs": [
    {
     "name": "stdout",
     "output_type": "stream",
     "text": [
      "0.8979576849251809\n"
     ]
    }
   ],
   "source": [
    "z = 1.27\n",
    "\n",
    "p = norm.cdf(z)\n",
    "print(p)"
   ]
  },
  {
   "cell_type": "markdown",
   "id": "37bf589c-8522-4f1e-bd3b-137161cf5e32",
   "metadata": {},
   "source": [
    "**Задача 2:**\n",
    "Допустим что Z это переменная со стандартным нормальным распределением. Какова вероятность P(−1.76<Z<−1.19)?"
   ]
  },
  {
   "cell_type": "code",
   "execution_count": 7,
   "id": "583001e9-27e8-4eec-be30-ab2a63ab4e7f",
   "metadata": {},
   "outputs": [
    {
     "name": "stdout",
     "output_type": "stream",
     "text": [
      "0.07781929273562609\n"
     ]
    }
   ],
   "source": [
    "z1 = -1.76\n",
    "z2 = -1.19\n",
    "\n",
    "p_range = norm.cdf(z2) - norm.cdf(z1)\n",
    "print(p_range)"
   ]
  },
  {
   "cell_type": "markdown",
   "id": "13a96832-96ea-4139-8cd2-d657210985c5",
   "metadata": {},
   "source": [
    "**Задача 3:**\n",
    "У 95.45% девушек старших классов, вес находится в диапазоне от 38кг до 52кг. Если предположить, что вес девушек распределён нормально, найдите среднее значение и стандартное отклонение."
   ]
  },
  {
   "cell_type": "code",
   "execution_count": 16,
   "id": "d0071867-ca1f-492a-87d1-67ff53896500",
   "metadata": {},
   "outputs": [
    {
     "name": "stdout",
     "output_type": "stream",
     "text": [
      "45.0\n",
      "3.4999957231809216\n"
     ]
    }
   ],
   "source": [
    "lower_bound = 38\n",
    "upper_bound = 52\n",
    "p = 0.9545\n",
    "\n",
    "\n",
    "mu = (lower_bound + upper_bound) / 2 \n",
    "sigma = (upper_bound - lower_bound) / (2 * norm.ppf((1 + p) / 2))\n",
    "\n",
    "print(mu)\n",
    "print(sigma)\n"
   ]
  },
  {
   "cell_type": "markdown",
   "id": "755898d2-5e1b-437a-b120-8b8b634bcec3",
   "metadata": {},
   "source": [
    "**Задача 4:**\n",
    "Длина указательного пальца взрослых мужчин примерно соответствует нормальному распределению, с μ=7.5cm и σ=0.5cm. Какова вероятность того, что длина указательного пальца случайно выбранного мужчины будет в диапазоне от 7.3см до 8,7см?"
   ]
  },
  {
   "cell_type": "code",
   "execution_count": 18,
   "id": "d0ac9db6-1184-4565-9159-5b59beaa9eb9",
   "metadata": {},
   "outputs": [
    {
     "name": "stdout",
     "output_type": "stream",
     "text": [
      "0.6472242056857281\n"
     ]
    }
   ],
   "source": [
    "mu = 7.5\n",
    "sigma = 0.5\n",
    "lower_bound = 7.3\n",
    "upper_bound = 8.7\n",
    "\n",
    "p= norm.cdf(upper_bound, loc=mu, scale=sigma) - norm.cdf(lower_bound, loc=mu, scale=sigma)\n",
    "\n",
    "print(p)\n"
   ]
  },
  {
   "cell_type": "markdown",
   "id": "5c09de7b-2851-4f5f-bfd0-31940f463231",
   "metadata": {},
   "source": [
    "**Задача 5:**\n",
    "IQ человека является нормально распределённой величиной с μ=100 и σ=15. Какова вероятность того, что у случайно выбранного человека IQ будет выше 140?"
   ]
  },
  {
   "cell_type": "code",
   "execution_count": 20,
   "id": "39847a9e-0833-4ef9-ae11-3af2c6bf67ad",
   "metadata": {},
   "outputs": [
    {
     "name": "stdout",
     "output_type": "stream",
     "text": [
      "0.9961696194324102\n"
     ]
    }
   ],
   "source": [
    "mu = 100\n",
    "sigma = 15\n",
    "iq = norm(loc=mu, scale=sigma)\n",
    "\n",
    "iq_higher_than_140 = iq.cdf(140)\n",
    "print(iq_higher_than_140)"
   ]
  },
  {
   "cell_type": "code",
   "execution_count": null,
   "id": "cf35703f-f15b-4754-ad45-b42834c5df93",
   "metadata": {},
   "outputs": [],
   "source": []
  }
 ],
 "metadata": {
  "kernelspec": {
   "display_name": "Python 3 (ipykernel)",
   "language": "python",
   "name": "python3"
  },
  "language_info": {
   "codemirror_mode": {
    "name": "ipython",
    "version": 3
   },
   "file_extension": ".py",
   "mimetype": "text/x-python",
   "name": "python",
   "nbconvert_exporter": "python",
   "pygments_lexer": "ipython3",
   "version": "3.12.7"
  }
 },
 "nbformat": 4,
 "nbformat_minor": 5
}
