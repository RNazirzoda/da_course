{
 "cells": [
  {
   "cell_type": "markdown",
   "id": "fa1b3377-e2ec-40fb-9543-71dd4042ae4b",
   "metadata": {},
   "source": [
    "**Назирзода Рахимджон**"
   ]
  },
  {
   "cell_type": "markdown",
   "id": "1a75db90-80e4-4656-8ed5-8fd8c3e8d3f7",
   "metadata": {},
   "source": [
    "**Метрика 1**"
   ]
  },
  {
   "cell_type": "code",
   "execution_count": 2,
   "id": "33ce8672-7471-4416-83f9-145a74aa7730",
   "metadata": {},
   "outputs": [],
   "source": [
    "import pandas as pd"
   ]
  },
  {
   "cell_type": "code",
   "execution_count": 40,
   "id": "1210844d-e1fb-4bce-9f96-47d38a6ccbae",
   "metadata": {},
   "outputs": [],
   "source": [
    "df = pd.read_csv('tips.csv')"
   ]
  },
  {
   "cell_type": "code",
   "execution_count": 22,
   "id": "3bf00521-be8e-48bf-a32b-1f841fb2c24a",
   "metadata": {},
   "outputs": [],
   "source": [
    "tips_per_day = {}\n",
    "for day in df['day'].unique():\n",
    "    tips_per_day[day] = df[(df['day']) == day]['tip'].sum()\n"
   ]
  },
  {
   "cell_type": "code",
   "execution_count": 24,
   "id": "4fff95b5-e1fb-47c1-a233-ecc4ed70270d",
   "metadata": {},
   "outputs": [
    {
     "data": {
      "text/plain": [
       "{'Sun': 247.39000000000001,\n",
       " 'Sat': 260.4,\n",
       " 'Thur': 171.82999999999996,\n",
       " 'Fri': 51.959999999999994}"
      ]
     },
     "execution_count": 24,
     "metadata": {},
     "output_type": "execute_result"
    }
   ],
   "source": [
    "tips_per_day"
   ]
  },
  {
   "cell_type": "markdown",
   "id": "62d150a4-dbc5-4a4a-94ad-6719903d1b8d",
   "metadata": {},
   "source": [
    "**Воскресенье - 247.390 $\n",
    "Суббота - 260.4 $\n",
    "Четверг - 171.83 $\n",
    "Пятница - 51.96 $**"
   ]
  },
  {
   "cell_type": "markdown",
   "id": "ee2fb892-3331-4555-a406-8c437220ccf9",
   "metadata": {},
   "source": [
    "**Метрика 2**"
   ]
  },
  {
   "cell_type": "code",
   "execution_count": 26,
   "id": "7a510fbc-b45e-4439-a776-75dcee47da51",
   "metadata": {},
   "outputs": [],
   "source": [
    "total_tips = df[\"tip\"].sum()\n",
    "percentage_tips_per_day = {}\n",
    "\n",
    "for day, tips in tips_per_day.items():\n",
    "    percentage_tips_per_day[day] = (tips / total_tips) * 100\n"
   ]
  },
  {
   "cell_type": "code",
   "execution_count": 28,
   "id": "18a7565b-9148-4a31-a566-4612732ba064",
   "metadata": {},
   "outputs": [
    {
     "data": {
      "text/plain": [
       "{'Sun': 33.81585062467536,\n",
       " 'Sat': 35.594193389649796,\n",
       " 'Thur': 23.48752016184149,\n",
       " 'Fri': 7.102435823833347}"
      ]
     },
     "execution_count": 28,
     "metadata": {},
     "output_type": "execute_result"
    }
   ],
   "source": [
    "percentage_tips_per_day"
   ]
  },
  {
   "cell_type": "markdown",
   "id": "89549e7b-4fff-42bd-97c7-c3772543a99d",
   "metadata": {},
   "source": [
    "**Воскресенье - 33.8159 %\n",
    "Суббота - 35.5942 %\n",
    "Четверг - 23.4875 %\n",
    "Пятница - 7.1024 %**"
   ]
  },
  {
   "cell_type": "markdown",
   "id": "b1cd516d-7ea8-41b6-981d-d74df7e7e8f4",
   "metadata": {},
   "source": [
    "**Матрика 3**"
   ]
  },
  {
   "cell_type": "code",
   "execution_count": 32,
   "id": "c6a2387f-e345-47a0-b5c8-1d7f0a13ff96",
   "metadata": {},
   "outputs": [],
   "source": [
    "tips_by_size = {}\n",
    "for size in df['size'].unique():\n",
    "    tips_by_size[size] = df[(df['size']) == size]['tip'].sum()\n",
    "top_3_clients = sorted(tips_by_size.items(), key=lambda x: x[1], reverse=True)[:3]"
   ]
  },
  {
   "cell_type": "code",
   "execution_count": 34,
   "id": "1bf9e58a-1f94-4d50-9e8e-f0abf0360f62",
   "metadata": {},
   "outputs": [
    {
     "data": {
      "text/plain": [
       "[(2, 402.84000000000003), (4, 153.01), (3, 128.94)]"
      ]
     },
     "execution_count": 34,
     "metadata": {},
     "output_type": "execute_result"
    }
   ],
   "source": [
    "top_3_clients"
   ]
  },
  {
   "cell_type": "markdown",
   "id": "79a9d984-3873-4f78-97f4-6953e7dbbdcf",
   "metadata": {},
   "source": [
    "**Первая группа людей - 402.84\n",
    "Вторая группа людей - 153.01\n",
    "Третья группа людей - 128.94**"
   ]
  },
  {
   "cell_type": "markdown",
   "id": "0702a79c-1e0d-4007-bae5-3a6b37873730",
   "metadata": {},
   "source": [
    "**Матрика 4**"
   ]
  },
  {
   "cell_type": "code",
   "execution_count": 44,
   "id": "ab64355a-76f6-4f51-96a5-3f48d7659d28",
   "metadata": {},
   "outputs": [],
   "source": [
    "revenue_by_size = {}\n",
    "for size in df['size'].unique():\n",
    "    revenue_by_size[size] = df[df['size'] == size]['total_bill'].sum()\n",
    "max_revenue_size = max(revenue_by_size, key=revenue_by_size.get)\n",
    "percentage_max_revenue = (revenue_by_size[max_revenue_size] / df['total_bill'].sum()) * 100"
   ]
  },
  {
   "cell_type": "code",
   "execution_count": 46,
   "id": "0bcf380a-d76c-46a1-9e87-cd282447d8fb",
   "metadata": {},
   "outputs": [
    {
     "data": {
      "text/plain": [
       "53.148555130008255"
      ]
     },
     "execution_count": 46,
     "metadata": {},
     "output_type": "execute_result"
    }
   ],
   "source": [
    "percentage_max_revenue"
   ]
  },
  {
   "cell_type": "markdown",
   "id": "fa4a68e8-3b88-443a-8f6a-c2fe6fa0cfe7",
   "metadata": {},
   "source": [
    "**Компания посетителей - 53.1486 %**"
   ]
  },
  {
   "cell_type": "markdown",
   "id": "d57ded44-3f21-4588-9f59-74b6146179e1",
   "metadata": {},
   "source": [
    "**Матрика 5**"
   ]
  },
  {
   "cell_type": "code",
   "execution_count": 52,
   "id": "160a3742-aef4-4973-b832-90610c098e51",
   "metadata": {},
   "outputs": [],
   "source": [
    "smokers_by_day_time = {}\n",
    "smokers = df[(df['sex'] == 'Male') & (df['smoker'] == 'Yes')]\n",
    "for day in smokers['day'].unique():\n",
    "    smokers_by_day_time[day] = {\n",
    "        'Lunch': smokers[(smokers['day'] == day) & (smokers['time'] == 'Lunch')].shape[0],\n",
    "        'Dinner': smokers[(smokers['day'] == day) & (smokers['time'] == 'Dinner')].shape[0]\n",
    "     }"
   ]
  },
  {
   "cell_type": "code",
   "execution_count": 54,
   "id": "fe36688e-f31c-4d1f-b49f-affa105029d7",
   "metadata": {},
   "outputs": [
    {
     "data": {
      "text/plain": [
       "{'Sat': {'Lunch': 0, 'Dinner': 27},\n",
       " 'Thur': {'Lunch': 10, 'Dinner': 0},\n",
       " 'Fri': {'Lunch': 3, 'Dinner': 5},\n",
       " 'Sun': {'Lunch': 0, 'Dinner': 15}}"
      ]
     },
     "execution_count": 54,
     "metadata": {},
     "output_type": "execute_result"
    }
   ],
   "source": [
    "smokers_by_day_time"
   ]
  },
  {
   "cell_type": "markdown",
   "id": "838ba19a-d175-4423-b0fb-1b1aa1590080",
   "metadata": {},
   "source": [
    "**Суббота - Ужин: 27, \n",
    "Четверг - Обед: 10,\n",
    "Пятница - Обед: 3 и Ужин: 5,\n",
    "Воскресенье - Ужин: 15**"
   ]
  },
  {
   "cell_type": "markdown",
   "id": "2795718d-5161-46ed-ab70-2e75520da189",
   "metadata": {},
   "source": [
    "**Матрика 6**"
   ]
  },
  {
   "cell_type": "code",
   "execution_count": 64,
   "id": "f2f2cd07-8f05-4f62-adc9-7d149e8bfbc4",
   "metadata": {},
   "outputs": [],
   "source": [
    "сondition = df[\n",
    "    (df['sex'] == 'Male') &\n",
    "    (df['smoker'] == 'Yes') &\n",
    "    (df['tip'] >= 2) & (df['tip'] <= 4) &\n",
    "    (df['day'].isin(['Sat', 'Sun'])) &\n",
    "    (df['time'] == 'Dinner')\n",
    "]\n",
    "filtered_percentage = (сondition['tip'].count() / df.shape[0]) * 100"
   ]
  },
  {
   "cell_type": "code",
   "execution_count": 66,
   "id": "1d8cadec-a5be-42fc-b2f6-7b6c2c74edf0",
   "metadata": {},
   "outputs": [
    {
     "data": {
      "text/plain": [
       "11.065573770491802"
      ]
     },
     "execution_count": 66,
     "metadata": {},
     "output_type": "execute_result"
    }
   ],
   "source": [
    "filtered_percentage"
   ]
  },
  {
   "cell_type": "code",
   "execution_count": null,
   "id": "f3dbe60b-d95d-4913-96ff-9f186c5a517c",
   "metadata": {},
   "outputs": [],
   "source": []
  }
 ],
 "metadata": {
  "kernelspec": {
   "display_name": "Python 3 (ipykernel)",
   "language": "python",
   "name": "python3"
  },
  "language_info": {
   "codemirror_mode": {
    "name": "ipython",
    "version": 3
   },
   "file_extension": ".py",
   "mimetype": "text/x-python",
   "name": "python",
   "nbconvert_exporter": "python",
   "pygments_lexer": "ipython3",
   "version": "3.12.7"
  }
 },
 "nbformat": 4,
 "nbformat_minor": 5
}
