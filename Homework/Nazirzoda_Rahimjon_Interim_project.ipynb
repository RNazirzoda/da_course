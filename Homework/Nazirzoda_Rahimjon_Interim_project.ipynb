{
 "cells": [
  {
   "cell_type": "markdown",
   "id": "7df5a77b-9e2b-4779-9e8c-73abc8f4f6c8",
   "metadata": {},
   "source": [
    "**Nazirzoda Rahimjon**\n",
    "\n",
    "**Interim project**"
   ]
  },
  {
   "cell_type": "code",
   "execution_count": 1,
   "id": "82dbdd02-b7ec-49a8-9da1-fdf66202a501",
   "metadata": {},
   "outputs": [],
   "source": [
    "import requests\n",
    "from bs4 import BeautifulSoup\n",
    "import pandas as pd\n",
    "import re"
   ]
  },
  {
   "cell_type": "code",
   "execution_count": 3,
   "id": "ae7cbab9-603d-4d69-a4aa-95c8215136f5",
   "metadata": {},
   "outputs": [
    {
     "name": "stdout",
     "output_type": "stream",
     "text": [
      "<Response [200]>\n"
     ]
    }
   ],
   "source": [
    "url = r'https://somon.tj/nedvizhimost/prodazha-kvartir/'\n",
    "print(requests.get(url))"
   ]
  },
  {
   "cell_type": "code",
   "execution_count": 5,
   "id": "7b146e3e-5517-4e6d-b616-d36f218e9ccb",
   "metadata": {},
   "outputs": [],
   "source": [
    "url = r'https://somon.tj/nedvizhimost/prodazha-kvartir/'\n",
    "html_file = requests.get(url)"
   ]
  },
  {
   "cell_type": "code",
   "execution_count": 7,
   "id": "f0d59014-49a1-4ca0-be56-311d00742d73",
   "metadata": {},
   "outputs": [],
   "source": [
    "with open ('flat_page1.html', 'w', encoding = 'utf-8') as file:\n",
    "    file.write(html_file.text)"
   ]
  },
  {
   "cell_type": "code",
   "execution_count": 9,
   "id": "411bb420-7e3d-47b0-ab85-f9872f85f70a",
   "metadata": {},
   "outputs": [],
   "source": [
    "with open('flat_page1.html', 'r', encoding='utf-8') as file:\n",
    "    flat_page1 = file.read()\n",
    "\n",
    "soup = BeautifulSoup(flat_page1)"
   ]
  },
  {
   "cell_type": "markdown",
   "id": "190b5ced-7519-4e84-a0fe-bb467248e3d7",
   "metadata": {},
   "source": [
    "**The price of flats from the first page**"
   ]
  },
  {
   "cell_type": "code",
   "execution_count": 12,
   "id": "11bd8a65-5c01-4409-8370-40e2ca3cda91",
   "metadata": {},
   "outputs": [],
   "source": [
    "price_of_flat = []\n",
    "\n",
    "for price in soup.find_all('a', class_='advert__content-price _not-title'):\n",
    "    \n",
    "    price = price.text.replace('c.', '')\n",
    "    price = price.strip()\n",
    "    price = price.split()\n",
    "    if len(price) == 2 or len(price) == 3: \n",
    "        price_of_flat.append(int(''.join(price)))\n",
    "    else:\n",
    "        if len(price) == 4:\n",
    "            price_of_flat.append(int(''.join(price[:2])))\n",
    "        elif len(price) == 6:\n",
    "            price_of_flat.append(int(''.join(price[:3])))\n",
    "\n",
    "        else:\n",
    "            price_of_flat.append(0)"
   ]
  },
  {
   "cell_type": "code",
   "execution_count": 14,
   "id": "17ebfbb2-cbc9-406d-999c-5020d0b17aa2",
   "metadata": {
    "collapsed": true,
    "jupyter": {
     "outputs_hidden": true
    }
   },
   "outputs": [
    {
     "data": {
      "text/plain": [
       "[770000,\n",
       " 820000,\n",
       " 210000,\n",
       " 595000,\n",
       " 750000,\n",
       " 550000,\n",
       " 399000,\n",
       " 1570000,\n",
       " 620000,\n",
       " 0,\n",
       " 752100,\n",
       " 245000,\n",
       " 660000,\n",
       " 590000,\n",
       " 310000,\n",
       " 1040000,\n",
       " 295500,\n",
       " 1210000,\n",
       " 744000,\n",
       " 320000,\n",
       " 1490000,\n",
       " 1428350,\n",
       " 1120000,\n",
       " 380000,\n",
       " 743000,\n",
       " 1355000,\n",
       " 560000,\n",
       " 670000,\n",
       " 680000,\n",
       " 1243000,\n",
       " 1390000,\n",
       " 180000,\n",
       " 170000,\n",
       " 847000,\n",
       " 550000,\n",
       " 680000,\n",
       " 1499000,\n",
       " 1397000,\n",
       " 450000,\n",
       " 684000,\n",
       " 1164000,\n",
       " 980000,\n",
       " 850000,\n",
       " 1712000,\n",
       " 470000,\n",
       " 210000,\n",
       " 300000,\n",
       " 410000,\n",
       " 741000,\n",
       " 150000,\n",
       " 970000,\n",
       " 900000,\n",
       " 445000,\n",
       " 630000,\n",
       " 780000,\n",
       " 540000,\n",
       " 750000,\n",
       " 1900000,\n",
       " 258500,\n",
       " 479000]"
      ]
     },
     "execution_count": 14,
     "metadata": {},
     "output_type": "execute_result"
    }
   ],
   "source": [
    "price_of_flat"
   ]
  },
  {
   "cell_type": "markdown",
   "id": "f500c518-eaa2-4ecc-b92e-d390a5226c2c",
   "metadata": {},
   "source": [
    "**Floor and rooms**"
   ]
  },
  {
   "cell_type": "code",
   "execution_count": 17,
   "id": "2a940152-b8e2-45e4-ba09-7350f344dda6",
   "metadata": {},
   "outputs": [],
   "source": [
    "def remove_text_numbers(string):\n",
    "    result = re.sub(r'[advert__content-title]', '', string)\n",
    "    return result"
   ]
  },
  {
   "cell_type": "code",
   "execution_count": 19,
   "id": "9200af6b-22d2-424c-a0b6-fdc4b8bcbf5b",
   "metadata": {},
   "outputs": [],
   "source": [
    "rooms_of_flat = []\n",
    "floor_of_flat = []\n",
    "\n",
    "\n",
    "for title in soup('a', class_='advert__content-title'):\n",
    "\n",
    "    title = title.text.strip()\n",
    "    title_parts = title.split(', ')\n",
    "    if len(title_parts) > 0:\n",
    "        room_match = re.search(r'\\d+', title_parts[0])\n",
    "    if room_match:\n",
    "        rooms_of_flat.append(int(room_match.group()))\n",
    "    numbers = re.findall(r'\\d+', title)\n",
    "    if len(numbers) >= 2:\n",
    "        floor_of_flat.append(int(numbers[1]))\n"
   ]
  },
  {
   "cell_type": "code",
   "execution_count": 21,
   "id": "a2c17d3e-ba32-4b0c-9bad-508635311cd1",
   "metadata": {
    "collapsed": true,
    "jupyter": {
     "outputs_hidden": true
    }
   },
   "outputs": [
    {
     "data": {
      "text/plain": [
       "[2,\n",
       " 2,\n",
       " 3,\n",
       " 1,\n",
       " 2,\n",
       " 2,\n",
       " 2,\n",
       " 3,\n",
       " 2,\n",
       " 3,\n",
       " 2,\n",
       " 2,\n",
       " 2,\n",
       " 2,\n",
       " 1,\n",
       " 2,\n",
       " 2,\n",
       " 2,\n",
       " 3,\n",
       " 2,\n",
       " 3,\n",
       " 3,\n",
       " 3,\n",
       " 2,\n",
       " 3,\n",
       " 3,\n",
       " 3,\n",
       " 3,\n",
       " 4,\n",
       " 3,\n",
       " 3,\n",
       " 1,\n",
       " 1,\n",
       " 2,\n",
       " 2,\n",
       " 2,\n",
       " 2,\n",
       " 2,\n",
       " 2,\n",
       " 2,\n",
       " 3,\n",
       " 3,\n",
       " 3,\n",
       " 4,\n",
       " 2,\n",
       " 1,\n",
       " 1,\n",
       " 3,\n",
       " 3,\n",
       " 1,\n",
       " 2,\n",
       " 3,\n",
       " 1,\n",
       " 2,\n",
       " 3,\n",
       " 2,\n",
       " 2,\n",
       " 5,\n",
       " 1,\n",
       " 2]"
      ]
     },
     "execution_count": 21,
     "metadata": {},
     "output_type": "execute_result"
    }
   ],
   "source": [
    "rooms_of_flat"
   ]
  },
  {
   "cell_type": "code",
   "execution_count": 23,
   "id": "b7401fa1-84e0-475c-b5ad-3c5df27c4251",
   "metadata": {
    "collapsed": true,
    "jupyter": {
     "outputs_hidden": true
    },
    "scrolled": true
   },
   "outputs": [
    {
     "data": {
      "text/plain": [
       "[4,\n",
       " 8,\n",
       " 1,\n",
       " 13,\n",
       " 1,\n",
       " 12,\n",
       " 15,\n",
       " 7,\n",
       " 12,\n",
       " 2,\n",
       " 10,\n",
       " 9,\n",
       " 12,\n",
       " 11,\n",
       " 1,\n",
       " 4,\n",
       " 9,\n",
       " 11,\n",
       " 17,\n",
       " 6,\n",
       " 9,\n",
       " 11,\n",
       " 14,\n",
       " 1,\n",
       " 12,\n",
       " 9,\n",
       " 4,\n",
       " 6,\n",
       " 12,\n",
       " 13,\n",
       " 9,\n",
       " 45,\n",
       " 38,\n",
       " 12,\n",
       " 6,\n",
       " 6,\n",
       " 12,\n",
       " 11,\n",
       " 4,\n",
       " 6,\n",
       " 3,\n",
       " 3,\n",
       " 15,\n",
       " 11,\n",
       " 9,\n",
       " 1,\n",
       " 7,\n",
       " 3,\n",
       " 7,\n",
       " 33,\n",
       " 8,\n",
       " 14,\n",
       " 11,\n",
       " 14,\n",
       " 4,\n",
       " 14,\n",
       " 7,\n",
       " 7,\n",
       " 6,\n",
       " 3]"
      ]
     },
     "execution_count": 23,
     "metadata": {},
     "output_type": "execute_result"
    }
   ],
   "source": [
    "floor_of_flat"
   ]
  },
  {
   "cell_type": "code",
   "execution_count": 25,
   "id": "fa163273-a043-4335-a824-8fbbfe1d1fbc",
   "metadata": {},
   "outputs": [],
   "source": [
    "area_of_flat = []\n",
    "address_of_flat = []\n",
    "\n",
    "for title in soup('a', class_='advert__content-title'):\n",
    "\n",
    "    title = title.text.strip()\n",
    "    title_parts = title.split(', ')\n",
    "    area_match = re.search(r'(\\d+)\\s*м²', title)\n",
    "    if area_match:\n",
    "        area_of_flat.append(int(area_match.group(1)))\n",
    "    if len(title_parts) > 2:\n",
    "        address_of_flat.append(title_parts[-1])\n"
   ]
  },
  {
   "cell_type": "code",
   "execution_count": 27,
   "id": "4b0c0236-afe5-4398-a1e6-fc68077b94d9",
   "metadata": {
    "collapsed": true,
    "jupyter": {
     "outputs_hidden": true
    }
   },
   "outputs": [
    {
     "data": {
      "text/plain": [
       "[72,\n",
       " 100,\n",
       " 80,\n",
       " 75,\n",
       " 101,\n",
       " 36,\n",
       " 64,\n",
       " 119,\n",
       " 48,\n",
       " 80,\n",
       " 68,\n",
       " 63,\n",
       " 80,\n",
       " 89,\n",
       " 41,\n",
       " 72,\n",
       " 69,\n",
       " 96,\n",
       " 65,\n",
       " 52,\n",
       " 124,\n",
       " 98,\n",
       " 91,\n",
       " 46,\n",
       " 104,\n",
       " 112,\n",
       " 64,\n",
       " 76,\n",
       " 83,\n",
       " 94,\n",
       " 111,\n",
       " 45,\n",
       " 38,\n",
       " 60,\n",
       " 82,\n",
       " 74,\n",
       " 90,\n",
       " 95,\n",
       " 38,\n",
       " 65,\n",
       " 126,\n",
       " 86,\n",
       " 122,\n",
       " 160,\n",
       " 76,\n",
       " 35,\n",
       " 37,\n",
       " 98,\n",
       " 95,\n",
       " 33,\n",
       " 65,\n",
       " 96,\n",
       " 60,\n",
       " 88,\n",
       " 78,\n",
       " 65,\n",
       " 75,\n",
       " 180,\n",
       " 53,\n",
       " 60]"
      ]
     },
     "execution_count": 27,
     "metadata": {},
     "output_type": "execute_result"
    }
   ],
   "source": [
    "area_of_flat"
   ]
  },
  {
   "cell_type": "code",
   "execution_count": 29,
   "id": "9ab12491-3b84-4505-a735-704e4ecae65e",
   "metadata": {
    "collapsed": true,
    "jupyter": {
     "outputs_hidden": true
    }
   },
   "outputs": [
    {
     "data": {
      "text/plain": [
       "['Шохмансур',\n",
       " 'стадион Спартак',\n",
       " 'шаҳраки Чорукдарон',\n",
       " 'Шоҳмансур',\n",
       " 'Сино',\n",
       " 'Исмоили Сомони',\n",
       " 'шохмансур',\n",
       " 'Сафо',\n",
       " 'Исмоили Сомони',\n",
       " 'Шохмансур',\n",
       " 'Сино',\n",
       " 'Фарханг',\n",
       " 'Молодёжный театр',\n",
       " 'Сино',\n",
       " 'пушти Запарож',\n",
       " 'ул Айни',\n",
       " 'Сино',\n",
       " 'РТСУ',\n",
       " 'Молодежный театр',\n",
       " 'Фирдавси',\n",
       " 'Старый Аэропорт',\n",
       " 'Исмоили Сомони',\n",
       " 'Шохмансур',\n",
       " 'Яхмоси 33',\n",
       " 'Шохмансур',\n",
       " '102мкр',\n",
       " 'Мости 82 микрорайон',\n",
       " 'Мости 82 микрорайон',\n",
       " 'Мости 82 микрорайон',\n",
       " 'Пайкар Голубой экран министерства транспорта',\n",
       " 'Шохпалас проспект Рудаки',\n",
       " '8 мкр',\n",
       " '8 мкр',\n",
       " '82 мкр',\n",
       " 'Сино',\n",
       " '8мкр',\n",
       " 'Дом печать',\n",
       " 'Дом печати',\n",
       " 'Маяковский',\n",
       " 'Зарафшон 1',\n",
       " 'напротив Пайкар',\n",
       " 'Сино',\n",
       " 'Сино',\n",
       " 'Гранд отель',\n",
       " 'Сино',\n",
       " '31 микрорайон',\n",
       " '18 мкр',\n",
       " 'Рудаки',\n",
       " '33 мкр',\n",
       " 'Борбад 93',\n",
       " 'Опера и балет (зелёный базар)',\n",
       " 'Шохмансур',\n",
       " 'Сомони',\n",
       " 'И. Сомони',\n",
       " '102 мкр',\n",
       " 'Молодёжный театр',\n",
       " 'Фирдавси (базар Гипрозем)',\n",
       " 'Шохмансур',\n",
       " '20 солаги истиклолият',\n",
       " 'Шоҳмансур']"
      ]
     },
     "execution_count": 29,
     "metadata": {},
     "output_type": "execute_result"
    }
   ],
   "source": [
    "address_of_flat"
   ]
  },
  {
   "cell_type": "markdown",
   "id": "11e7490c-91a5-4fbb-8928-1cb322154027",
   "metadata": {},
   "source": [
    "**City**"
   ]
  },
  {
   "cell_type": "code",
   "execution_count": 32,
   "id": "81d79c15-ff65-4b95-9613-11359406b9d3",
   "metadata": {},
   "outputs": [],
   "source": [
    "city_of_flat = []\n",
    "\n",
    "for city in soup('div', class_='advert__content-place'):\n",
    "    city = city.text.strip().title()\n",
    "    city_of_flat.append(city)"
   ]
  },
  {
   "cell_type": "code",
   "execution_count": 34,
   "id": "6f64bb23-d74e-480c-9496-184b7794350c",
   "metadata": {
    "collapsed": true,
    "jupyter": {
     "outputs_hidden": true
    }
   },
   "outputs": [
    {
     "data": {
      "text/plain": [
       "['Душанбе',\n",
       " 'Душанбе',\n",
       " 'Гулистон (Кайраккум)',\n",
       " 'Душанбе',\n",
       " 'Душанбе',\n",
       " 'Душанбе',\n",
       " 'Душанбе',\n",
       " 'Душанбе',\n",
       " 'Душанбе',\n",
       " 'Душанбе',\n",
       " 'Душанбе',\n",
       " 'Бободжон Гафуров',\n",
       " 'Душанбе',\n",
       " 'Душанбе',\n",
       " 'Душанбе',\n",
       " 'Душанбе',\n",
       " 'Душанбе',\n",
       " 'Душанбе',\n",
       " 'Душанбе',\n",
       " 'Душанбе',\n",
       " 'Душанбе',\n",
       " 'Душанбе',\n",
       " 'Душанбе',\n",
       " 'Худжанд',\n",
       " 'Душанбе',\n",
       " 'Душанбе',\n",
       " 'Душанбе',\n",
       " 'Душанбе',\n",
       " 'Душанбе',\n",
       " 'Душанбе',\n",
       " 'Душанбе',\n",
       " 'Худжанд',\n",
       " 'Худжанд',\n",
       " 'Душанбе',\n",
       " 'Душанбе',\n",
       " 'Худжанд',\n",
       " 'Душанбе',\n",
       " 'Душанбе',\n",
       " 'Душанбе',\n",
       " 'Душанбе',\n",
       " 'Душанбе',\n",
       " 'Душанбе',\n",
       " 'Душанбе',\n",
       " 'Душанбе',\n",
       " 'Душанбе',\n",
       " 'Худжанд',\n",
       " 'Худжанд',\n",
       " 'Рудаки',\n",
       " 'Худжанд',\n",
       " 'Душанбе',\n",
       " 'Душанбе',\n",
       " 'Душанбе',\n",
       " 'Душанбе',\n",
       " 'Душанбе',\n",
       " 'Душанбе',\n",
       " 'Душанбе',\n",
       " 'Душанбе',\n",
       " 'Душанбе',\n",
       " 'Вахдат',\n",
       " 'Душанбе']"
      ]
     },
     "execution_count": 34,
     "metadata": {},
     "output_type": "execute_result"
    }
   ],
   "source": [
    "city_of_flat"
   ]
  },
  {
   "cell_type": "code",
   "execution_count": 36,
   "id": "42b83da5-00ed-4a91-9c5a-8b066a964e3e",
   "metadata": {},
   "outputs": [
    {
     "name": "stdout",
     "output_type": "stream",
     "text": [
      "price_of_flat, lenght - 60\n",
      "rooms_of_flat, lenght - 60\n",
      "floor_of_flat, lenght - 60\n",
      "area_of_flat, lenght - 60\n",
      "address_of_flat, lenght - 60\n",
      "city_of_flat, lenght - 60\n"
     ]
    }
   ],
   "source": [
    "print(\n",
    "    f'price_of_flat, lenght - {len(price_of_flat)}',\n",
    "    f'rooms_of_flat, lenght - {len(rooms_of_flat)}',\n",
    "    f'floor_of_flat, lenght - {len(floor_of_flat)}',\n",
    "    f'area_of_flat, lenght - {len(area_of_flat)}',\n",
    "    f'address_of_flat, lenght - {len(address_of_flat)}',\n",
    "    f'city_of_flat, lenght - {len(city_of_flat)}',\n",
    "    sep='\\n'\n",
    "\n",
    ")"
   ]
  },
  {
   "cell_type": "code",
   "execution_count": 38,
   "id": "458ff7e8-ce9e-42a2-91d9-ec30344a52af",
   "metadata": {},
   "outputs": [],
   "source": [
    "d = {'price':price_of_flat,\n",
    "    'rooms':rooms_of_flat,\n",
    "    'floor':floor_of_flat,\n",
    "    'area(m2)':area_of_flat,\n",
    "    'address':address_of_flat,\n",
    "    'city':city_of_flat}\n",
    "df = pd.DataFrame(d)"
   ]
  },
  {
   "cell_type": "code",
   "execution_count": 40,
   "id": "435429c6-f7fb-4913-b176-c2cc465f8856",
   "metadata": {},
   "outputs": [],
   "source": [
    "for i in range(2, 40):\n",
    "    url = f'https://somon.tj/nedvizhimost/prodazha-kvartir/?page={i}'\n",
    "    req = requests.get(url)\n",
    "\n",
    "    with open (f'flat_page{i}.html', 'w', encoding='utf-8') as file:\n",
    "        file.write(html_file.text)"
   ]
  },
  {
   "cell_type": "code",
   "execution_count": 41,
   "id": "4b9ffb36-4f65-4683-bd23-283f41b8db72",
   "metadata": {},
   "outputs": [],
   "source": [
    "price_of_flat2 = []\n",
    "rooms_of_flat2 = []\n",
    "floor_of_flat2 = []\n",
    "area_of_flat2 = []\n",
    "address_of_flat2 = []\n",
    "city_of_flat2 = []\n",
    "\n",
    "for i2 in range(2, 40):\n",
    "    with open(f'flat_page{i2}.html', 'r', encoding='utf-8') as file:\n",
    "        flat_page1 = file.read()\n",
    "\n",
    "    soup = BeautifulSoup(flat_page1)\n",
    "\n",
    "\n",
    "    for price in soup.find_all('a', class_='advert__content-price _not-title'):\n",
    "        price = price.text.replace('c.', '')\n",
    "        price = price.strip()\n",
    "        price = price.split()\n",
    "        if len(price) == 2 or len(price) == 3:\n",
    "            price_of_flat2.append(int(''.join(price)))\n",
    "        else:\n",
    "            if len(price) == 4:\n",
    "                price_of_flat2.append(int(''.join(price[:2])))\n",
    "            elif len(price) == 6:\n",
    "                price_of_flat2.append(int(''.join(price[:3])))\n",
    "            else:\n",
    "                price_of_flat2.append(0)\n",
    "    \n",
    "    \n",
    "    for title in soup('a', class_='advert__content-title'):\n",
    "    \n",
    "        title = title.text.strip()\n",
    "        title_parts = title.split(', ')\n",
    "        if len(title_parts) > 0:\n",
    "            room_match = re.search(r'\\d+', title_parts[0])\n",
    "            if room_match:\n",
    "                rooms_of_flat2.append(int(room_match.group()))\n",
    "        numbers = re.findall(r'\\d+', title)\n",
    "        if len(numbers) >= 2:\n",
    "            floor_of_flat2.append(int(numbers[1]))\n",
    "    \n",
    "    \n",
    "    for title in soup('a', class_='advert__content-title'):\n",
    "    \n",
    "        title = title.text.strip()\n",
    "        title_parts = title.split(', ')\n",
    "        area_match = re.search(r'(\\d+)\\s*м²', title)\n",
    "        if area_match:\n",
    "            area_of_flat2.append(int(area_match.group(1)))\n",
    "    \n",
    "        if len(title_parts) > 2:\n",
    "            address_of_flat2.append(title_parts[-1])\n",
    "    \n",
    "    \n",
    "    for city in soup('div', class_='advert__content-place'):\n",
    "        city = city.text.strip().title()\n",
    "        city_of_flat2.append(city)\n"
   ]
  },
  {
   "cell_type": "code",
   "execution_count": 44,
   "id": "503991d1-69d1-4ac6-94ac-e650f72a08ee",
   "metadata": {},
   "outputs": [
    {
     "name": "stdout",
     "output_type": "stream",
     "text": [
      "price_of_flat, lenght - 2280\n",
      "rooms_of_flat, lenght - 2280\n",
      "floor_of_flat, lenght - 2280\n",
      "area_of_flat, lenght - 2280\n",
      "address_of_flat, lenght - 2280\n",
      "city_of_flat, lenght - 2280\n"
     ]
    }
   ],
   "source": [
    "print(\n",
    "    f'price_of_flat, lenght - {len(price_of_flat2)}',\n",
    "    f'rooms_of_flat, lenght - {len(rooms_of_flat2)}',\n",
    "    f'floor_of_flat, lenght - {len(floor_of_flat2)}',\n",
    "    f'area_of_flat, lenght - {len(area_of_flat2)}',\n",
    "    f'address_of_flat, lenght - {len(address_of_flat2)}',\n",
    "    f'city_of_flat, lenght - {len(city_of_flat2)}',\n",
    "    sep='\\n'\n",
    "\n",
    ")"
   ]
  },
  {
   "cell_type": "code",
   "execution_count": 46,
   "id": "1af7fd39-463b-4124-81c8-1e40595b8e9e",
   "metadata": {},
   "outputs": [],
   "source": [
    "d = {'price':price_of_flat+price_of_flat2,\n",
    "    'rooms':rooms_of_flat+rooms_of_flat2,\n",
    "    'floor':floor_of_flat+floor_of_flat2,\n",
    "    'area(m2)':area_of_flat+area_of_flat2,\n",
    "    'address':address_of_flat+address_of_flat2,\n",
    "    'city':city_of_flat+city_of_flat2}\n",
    "df = pd.DataFrame(d)"
   ]
  },
  {
   "cell_type": "code",
   "execution_count": 48,
   "id": "2877d497-e76b-4681-a6c0-dd0e147380dd",
   "metadata": {},
   "outputs": [
    {
     "data": {
      "text/html": [
       "<div>\n",
       "<style scoped>\n",
       "    .dataframe tbody tr th:only-of-type {\n",
       "        vertical-align: middle;\n",
       "    }\n",
       "\n",
       "    .dataframe tbody tr th {\n",
       "        vertical-align: top;\n",
       "    }\n",
       "\n",
       "    .dataframe thead th {\n",
       "        text-align: right;\n",
       "    }\n",
       "</style>\n",
       "<table border=\"1\" class=\"dataframe\">\n",
       "  <thead>\n",
       "    <tr style=\"text-align: right;\">\n",
       "      <th></th>\n",
       "      <th>price</th>\n",
       "      <th>rooms</th>\n",
       "      <th>floor</th>\n",
       "      <th>area(m2)</th>\n",
       "      <th>address</th>\n",
       "      <th>city</th>\n",
       "    </tr>\n",
       "  </thead>\n",
       "  <tbody>\n",
       "    <tr>\n",
       "      <th>0</th>\n",
       "      <td>770000</td>\n",
       "      <td>2</td>\n",
       "      <td>4</td>\n",
       "      <td>72</td>\n",
       "      <td>Шохмансур</td>\n",
       "      <td>Душанбе</td>\n",
       "    </tr>\n",
       "    <tr>\n",
       "      <th>1</th>\n",
       "      <td>820000</td>\n",
       "      <td>2</td>\n",
       "      <td>8</td>\n",
       "      <td>100</td>\n",
       "      <td>стадион Спартак</td>\n",
       "      <td>Душанбе</td>\n",
       "    </tr>\n",
       "    <tr>\n",
       "      <th>2</th>\n",
       "      <td>210000</td>\n",
       "      <td>3</td>\n",
       "      <td>1</td>\n",
       "      <td>80</td>\n",
       "      <td>шаҳраки Чорукдарон</td>\n",
       "      <td>Гулистон (Кайраккум)</td>\n",
       "    </tr>\n",
       "    <tr>\n",
       "      <th>3</th>\n",
       "      <td>595000</td>\n",
       "      <td>1</td>\n",
       "      <td>13</td>\n",
       "      <td>75</td>\n",
       "      <td>Шоҳмансур</td>\n",
       "      <td>Душанбе</td>\n",
       "    </tr>\n",
       "    <tr>\n",
       "      <th>4</th>\n",
       "      <td>750000</td>\n",
       "      <td>2</td>\n",
       "      <td>1</td>\n",
       "      <td>101</td>\n",
       "      <td>Сино</td>\n",
       "      <td>Душанбе</td>\n",
       "    </tr>\n",
       "    <tr>\n",
       "      <th>...</th>\n",
       "      <td>...</td>\n",
       "      <td>...</td>\n",
       "      <td>...</td>\n",
       "      <td>...</td>\n",
       "      <td>...</td>\n",
       "      <td>...</td>\n",
       "    </tr>\n",
       "    <tr>\n",
       "      <th>2335</th>\n",
       "      <td>540000</td>\n",
       "      <td>2</td>\n",
       "      <td>14</td>\n",
       "      <td>65</td>\n",
       "      <td>Молодёжный театр</td>\n",
       "      <td>Душанбе</td>\n",
       "    </tr>\n",
       "    <tr>\n",
       "      <th>2336</th>\n",
       "      <td>750000</td>\n",
       "      <td>2</td>\n",
       "      <td>7</td>\n",
       "      <td>75</td>\n",
       "      <td>Фирдавси (базар Гипрозем)</td>\n",
       "      <td>Душанбе</td>\n",
       "    </tr>\n",
       "    <tr>\n",
       "      <th>2337</th>\n",
       "      <td>1900000</td>\n",
       "      <td>5</td>\n",
       "      <td>7</td>\n",
       "      <td>180</td>\n",
       "      <td>Шохмансур</td>\n",
       "      <td>Душанбе</td>\n",
       "    </tr>\n",
       "    <tr>\n",
       "      <th>2338</th>\n",
       "      <td>258500</td>\n",
       "      <td>1</td>\n",
       "      <td>6</td>\n",
       "      <td>53</td>\n",
       "      <td>20 солаги истиклолият</td>\n",
       "      <td>Вахдат</td>\n",
       "    </tr>\n",
       "    <tr>\n",
       "      <th>2339</th>\n",
       "      <td>479000</td>\n",
       "      <td>2</td>\n",
       "      <td>3</td>\n",
       "      <td>60</td>\n",
       "      <td>Шоҳмансур</td>\n",
       "      <td>Душанбе</td>\n",
       "    </tr>\n",
       "  </tbody>\n",
       "</table>\n",
       "<p>2340 rows × 6 columns</p>\n",
       "</div>"
      ],
      "text/plain": [
       "        price  rooms  floor  area(m2)                    address  \\\n",
       "0      770000      2      4        72                  Шохмансур   \n",
       "1      820000      2      8       100            стадион Спартак   \n",
       "2      210000      3      1        80         шаҳраки Чорукдарон   \n",
       "3      595000      1     13        75                  Шоҳмансур   \n",
       "4      750000      2      1       101                       Сино   \n",
       "...       ...    ...    ...       ...                        ...   \n",
       "2335   540000      2     14        65           Молодёжный театр   \n",
       "2336   750000      2      7        75  Фирдавси (базар Гипрозем)   \n",
       "2337  1900000      5      7       180                  Шохмансур   \n",
       "2338   258500      1      6        53      20 солаги истиклолият   \n",
       "2339   479000      2      3        60                  Шоҳмансур   \n",
       "\n",
       "                      city  \n",
       "0                  Душанбе  \n",
       "1                  Душанбе  \n",
       "2     Гулистон (Кайраккум)  \n",
       "3                  Душанбе  \n",
       "4                  Душанбе  \n",
       "...                    ...  \n",
       "2335               Душанбе  \n",
       "2336               Душанбе  \n",
       "2337               Душанбе  \n",
       "2338                Вахдат  \n",
       "2339               Душанбе  \n",
       "\n",
       "[2340 rows x 6 columns]"
      ]
     },
     "execution_count": 48,
     "metadata": {},
     "output_type": "execute_result"
    }
   ],
   "source": [
    "df"
   ]
  },
  {
   "cell_type": "code",
   "execution_count": null,
   "id": "505fb590-c0e1-40af-94fa-a8880a54998d",
   "metadata": {},
   "outputs": [],
   "source": []
  },
  {
   "cell_type": "code",
   "execution_count": null,
   "id": "f4d2a0ee-927b-480f-a52b-be6e318d652e",
   "metadata": {},
   "outputs": [],
   "source": []
  },
  {
   "cell_type": "code",
   "execution_count": null,
   "id": "951eb819-d058-48e7-a75b-ce37f6f904e3",
   "metadata": {},
   "outputs": [],
   "source": []
  }
 ],
 "metadata": {
  "kernelspec": {
   "display_name": "Python 3 (ipykernel)",
   "language": "python",
   "name": "python3"
  },
  "language_info": {
   "codemirror_mode": {
    "name": "ipython",
    "version": 3
   },
   "file_extension": ".py",
   "mimetype": "text/x-python",
   "name": "python",
   "nbconvert_exporter": "python",
   "pygments_lexer": "ipython3",
   "version": "3.12.7"
  }
 },
 "nbformat": 4,
 "nbformat_minor": 5
}
