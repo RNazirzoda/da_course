{
 "cells": [
  {
   "cell_type": "markdown",
   "id": "9e22f802-493e-49dc-b4fd-e48ebf38231c",
   "metadata": {},
   "source": [
    "**Назирзода Рахимчон**"
   ]
  },
  {
   "cell_type": "markdown",
   "id": "0f03591e-9aa2-4f50-83a8-04350ea6152b",
   "metadata": {},
   "source": [
    "**Задание -1**"
   ]
  },
  {
   "cell_type": "markdown",
   "id": "5d90abe8-635d-468c-afc0-08096ab4ef66",
   "metadata": {},
   "source": [
    "**Пример 1**"
   ]
  },
  {
   "cell_type": "code",
   "execution_count": 29,
   "id": "fbe63fae-fce1-409e-9187-366c76ec020d",
   "metadata": {},
   "outputs": [
    {
     "name": "stdin",
     "output_type": "stream",
     "text": [
      "Число:  5\n",
      "Число:  8\n"
     ]
    },
    {
     "name": "stdout",
     "output_type": "stream",
     "text": [
      "Число 8 больше чем 5\n"
     ]
    }
   ],
   "source": [
    "num1 = int(input('Число: '))\n",
    "num2 = int(input('Число: '))\n",
    "\n",
    "if num1 < 2:\n",
    "    print('Число 8 меньше чем 2')\n",
    "elif num1 < 4:\n",
    "    print('Число 8 меньше чем 4')\n",
    "elif num1 < 5:\n",
    "    print('Число 8 равен 5')\n",
    "else:\n",
    "    print('Число 8 больше чем 5')  "
   ]
  },
  {
   "cell_type": "markdown",
   "id": "70f64697-c8af-4f3b-a396-805e336993ed",
   "metadata": {},
   "source": [
    "**Пример 2**"
   ]
  },
  {
   "cell_type": "code",
   "execution_count": 31,
   "id": "edc67826-904e-4bc8-b345-a26edb74f2fb",
   "metadata": {},
   "outputs": [
    {
     "name": "stdin",
     "output_type": "stream",
     "text": [
      "Число:  5\n",
      "Число:  5\n"
     ]
    },
    {
     "name": "stdout",
     "output_type": "stream",
     "text": [
      "Числа равны\n"
     ]
    }
   ],
   "source": [
    "num1 = int(input('Число: '))\n",
    "num2 = int(input('Число: '))\n",
    "\n",
    "if num1 < 2:\n",
    "    print('Число 5 меньше чем 2')\n",
    "elif num1 < 4:\n",
    "    print('Число 5 меньше чем 4')\n",
    "else:\n",
    "    print('Числа равны')"
   ]
  },
  {
   "cell_type": "markdown",
   "id": "b8a3b161-1cb8-4a88-bced-6534071454d0",
   "metadata": {},
   "source": [
    "**Задание -2**"
   ]
  },
  {
   "cell_type": "code",
   "execution_count": 43,
   "id": "9bb228d3-b31b-49d8-8d1b-06f29d829448",
   "metadata": {},
   "outputs": [
    {
     "name": "stdin",
     "output_type": "stream",
     "text": [
      "Введите ваш возраст:  15\n"
     ]
    },
    {
     "name": "stdout",
     "output_type": "stream",
     "text": [
      "Молодость\n"
     ]
    }
   ],
   "source": [
    "age = int(input('Введите ваш возраст: '))\n",
    "\n",
    "if age < 13:\n",
    "    print('детство')\n",
    "elif 14 <= age < 24:\n",
    "    print('Молодость')\n",
    "elif 25 <= age < 59:\n",
    "    print('Зрелость')\n",
    "else: \n",
    "    print('Ста')"
   ]
  },
  {
   "cell_type": "markdown",
   "id": "b4df978a-4900-4d11-91fc-49ca82e0b904",
   "metadata": {},
   "source": [
    "**Задание -3**"
   ]
  },
  {
   "cell_type": "markdown",
   "id": "d54ba936-d50f-4486-94da-ccd9163a7ac4",
   "metadata": {},
   "source": [
    "**Пример 1**"
   ]
  },
  {
   "cell_type": "code",
   "execution_count": 71,
   "id": "0b6907de-a550-4d57-b176-ee446b105da1",
   "metadata": {},
   "outputs": [
    {
     "name": "stdin",
     "output_type": "stream",
     "text": [
      "Число:  22\n",
      "Число:  -5\n",
      "Число:  -7\n"
     ]
    },
    {
     "name": "stdout",
     "output_type": "stream",
     "text": [
      "22.0\n"
     ]
    }
   ],
   "source": [
    "num1 = float(input('Число: '))\n",
    "num2 = float(input('Число: '))\n",
    "num3 = float(input('Число: '))\n",
    "\n",
    "positive_sum = 0\n",
    "\n",
    "if num1 > 0:\n",
    "    positive_sum += num1\n",
    "if num2 > 0:\n",
    "    positive_sum += num2\n",
    "if num3 > 0:\n",
    "    positive_sum += num3\n",
    "\n",
    "print(positive_sum)"
   ]
  },
  {
   "cell_type": "markdown",
   "id": "162f7af3-0826-483a-8548-1ab66f8f8b38",
   "metadata": {},
   "source": [
    "**Пример 2**"
   ]
  },
  {
   "cell_type": "code",
   "execution_count": 73,
   "id": "4b6223d5-f92f-42dd-bf37-e010951fd92b",
   "metadata": {},
   "outputs": [
    {
     "name": "stdin",
     "output_type": "stream",
     "text": [
      "Число:  22\n",
      "Число:  5\n",
      "Число:  7\n"
     ]
    },
    {
     "name": "stdout",
     "output_type": "stream",
     "text": [
      "34.0\n"
     ]
    }
   ],
   "source": [
    "num1 = float(input('Число: '))\n",
    "num2 = float(input('Число: '))\n",
    "num3 = float(input('Число: '))\n",
    "\n",
    "positive_sum = 0\n",
    "\n",
    "if num1 > 0:\n",
    "    positive_sum += num1\n",
    "if num2 > 0:\n",
    "    positive_sum += num2\n",
    "if num3 > 0:\n",
    "    positive_sum += num3\n",
    "\n",
    "print(positive_sum)"
   ]
  },
  {
   "cell_type": "markdown",
   "id": "406fb667-dd2e-4a4c-9876-0321330344be",
   "metadata": {},
   "source": [
    "**Задание -4**"
   ]
  },
  {
   "cell_type": "markdown",
   "id": "71bcd196-f63d-440b-8d3e-665550512c22",
   "metadata": {},
   "source": [
    "**Пример 1**"
   ]
  },
  {
   "cell_type": "code",
   "execution_count": 117,
   "id": "0d377f34-8aa8-40f3-a9c4-13174128f834",
   "metadata": {},
   "outputs": [
    {
     "name": "stdin",
     "output_type": "stream",
     "text": [
      "Число:  22\n"
     ]
    },
    {
     "name": "stdout",
     "output_type": "stream",
     "text": [
      "Число четное\n"
     ]
    }
   ],
   "source": [
    "num = int(input('Число: '))\n",
    "\n",
    "if num % 2 == 0:\n",
    "    print('Число четное')\n",
    "else:\n",
    "    print('Число нечетное')"
   ]
  },
  {
   "cell_type": "markdown",
   "id": "aa055671-0ee3-4265-9c6f-26a06e208e4f",
   "metadata": {},
   "source": [
    "**Пример 2**"
   ]
  },
  {
   "cell_type": "code",
   "execution_count": 119,
   "id": "faafbe86-8981-414e-870c-ec36073d8218",
   "metadata": {},
   "outputs": [
    {
     "name": "stdin",
     "output_type": "stream",
     "text": [
      "Число:  5\n"
     ]
    },
    {
     "name": "stdout",
     "output_type": "stream",
     "text": [
      "Число нечетное\n"
     ]
    }
   ],
   "source": [
    "num = int(input('Число: '))\n",
    "\n",
    "if num % 2 == 0:\n",
    "    print('Число четное')\n",
    "else:\n",
    "    print('Число нечетное')"
   ]
  },
  {
   "cell_type": "markdown",
   "id": "80fdb1d5-6a53-4db0-a2c8-8d452e3102e4",
   "metadata": {},
   "source": []
  },
  {
   "cell_type": "code",
   "execution_count": null,
   "id": "81f4b47f-d1b1-4cc9-94c3-69a03b14dae8",
   "metadata": {},
   "outputs": [],
   "source": []
  },
  {
   "cell_type": "code",
   "execution_count": null,
   "id": "0991024b-d3a0-4259-9e04-8f1906fadaa5",
   "metadata": {},
   "outputs": [],
   "source": []
  },
  {
   "cell_type": "code",
   "execution_count": null,
   "id": "1543e3b1-387e-46ee-be22-9cbfd91e4b91",
   "metadata": {},
   "outputs": [],
   "source": []
  },
  {
   "cell_type": "code",
   "execution_count": null,
   "id": "e694da02-a2be-4d87-9a94-895d5dd350e8",
   "metadata": {},
   "outputs": [],
   "source": []
  },
  {
   "cell_type": "code",
   "execution_count": null,
   "id": "727edd0d-013a-4f27-a17a-bc29f250dffe",
   "metadata": {},
   "outputs": [],
   "source": []
  },
  {
   "cell_type": "code",
   "execution_count": null,
   "id": "63a45d31-5ead-4fba-85b4-0e722136a864",
   "metadata": {},
   "outputs": [],
   "source": []
  },
  {
   "cell_type": "code",
   "execution_count": null,
   "id": "a12996ab-6037-48a0-a053-80f2bf4c53a9",
   "metadata": {},
   "outputs": [],
   "source": []
  },
  {
   "cell_type": "code",
   "execution_count": null,
   "id": "a33deba9-9cc5-4c16-bf65-0beb1668e2f1",
   "metadata": {},
   "outputs": [],
   "source": []
  }
 ],
 "metadata": {
  "kernelspec": {
   "display_name": "Python 3 (ipykernel)",
   "language": "python",
   "name": "python3"
  },
  "language_info": {
   "codemirror_mode": {
    "name": "ipython",
    "version": 3
   },
   "file_extension": ".py",
   "mimetype": "text/x-python",
   "name": "python",
   "nbconvert_exporter": "python",
   "pygments_lexer": "ipython3",
   "version": "3.12.7"
  }
 },
 "nbformat": 4,
 "nbformat_minor": 5
}
