{
 "cells": [
  {
   "cell_type": "markdown",
   "id": "0c7a5fde-1de1-484f-9780-40f369bcc632",
   "metadata": {},
   "source": [
    "# Дискретные случайные величины"
   ]
  },
  {
   "cell_type": "markdown",
   "id": "295f6638-742b-46d8-bdb6-18ae909dba2e",
   "metadata": {},
   "source": [
    "**Рахимджон Назирзода**"
   ]
  },
  {
   "cell_type": "code",
   "execution_count": 3,
   "id": "5b4bc9a5-7381-4951-ba49-021753e76de3",
   "metadata": {},
   "outputs": [],
   "source": [
    "from math import factorial\n",
    "import numpy as np\n",
    "import seaborn as sns\n",
    "import matplotlib.pyplot as plt"
   ]
  },
  {
   "cell_type": "markdown",
   "id": "7b4a9c44-375b-4ba3-8591-7d999498ad40",
   "metadata": {},
   "source": [
    "**Задача 1:**\n",
    "Четыре монеты подбрасываются разом. Если переменная X это количество полученных орлов, то чему равен P(X=2)?"
   ]
  },
  {
   "cell_type": "code",
   "execution_count": 5,
   "id": "509098ea-3403-4348-a049-967866141e4d",
   "metadata": {},
   "outputs": [
    {
     "name": "stdout",
     "output_type": "stream",
     "text": [
      "P(X=2): 0.375\n"
     ]
    }
   ],
   "source": [
    "num_of_toss = 4 \n",
    "num_of_heads = 2\n",
    "\n",
    "num_of_p = num_of_heads / num_of_toss\n",
    "\n",
    "\n",
    "def probability(num_of_toss, num_of_heads, num_of_p):\n",
    "    combinations = factorial(num_of_toss) / (factorial(num_of_heads) * factorial(num_of_toss - num_of_heads))\n",
    "    probability = combinations * (num_of_p ** num_of_heads) * ((1 - num_of_p) ** (num_of_toss - num_of_heads))\n",
    "    return probability\n",
    "\n",
    "\n",
    "result = probability(num_of_toss, num_of_heads, num_of_p)\n",
    "print(f\"P(X=2): {result}\")"
   ]
  },
  {
   "cell_type": "markdown",
   "id": "37bf589c-8522-4f1e-bd3b-137161cf5e32",
   "metadata": {},
   "source": [
    "**Задача 2:**\n",
    "Четыре монеты подбрасываются разом. Если переменная X это количество полученных орлов, то чему равен P(X ≥ 1)?"
   ]
  },
  {
   "cell_type": "code",
   "execution_count": 7,
   "id": "583001e9-27e8-4eec-be30-ab2a63ab4e7f",
   "metadata": {},
   "outputs": [
    {
     "name": "stdout",
     "output_type": "stream",
     "text": [
      "P(X≥1): 0.75\n"
     ]
    }
   ],
   "source": [
    "num_of_toss = 4 \n",
    "num_of_heads = 1\n",
    "num_of_p = 0.5\n",
    "\n",
    "\n",
    "def probability(num_of_toss, num_of_heads, num_of_p):\n",
    "    combinations = factorial(num_of_toss) / (factorial(num_of_heads) * factorial(num_of_toss - num_of_heads))\n",
    "    probability = combinations * (num_of_p ** num_of_heads) * ((1 - num_of_p) ** (num_of_toss - num_of_heads))\n",
    "    return probability\n",
    "\n",
    "\n",
    "p_0 = probability(num_of_toss, num_of_heads, num_of_p)\n",
    "\n",
    "p_1 = 1 - p_0\n",
    "\n",
    "print(f\"P(X≥1): {p_1}\")"
   ]
  },
  {
   "cell_type": "markdown",
   "id": "13a96832-96ea-4139-8cd2-d657210985c5",
   "metadata": {},
   "source": [
    "**Задача 3:**\n",
    "Вероятность того, что у рандомного человека группа крови А составляет 40%. Выберем случайным образом 4 человек и пусть случайная величина X будет количеством людей с типом крови А. Постройте биномиальное распределение этого эксперимента."
   ]
  },
  {
   "cell_type": "code",
   "execution_count": 25,
   "id": "d0071867-ca1f-492a-87d1-67ff53896500",
   "metadata": {},
   "outputs": [
    {
     "name": "stdout",
     "output_type": "stream",
     "text": [
      "1.6 0.96 0.9797958971132712\n"
     ]
    }
   ],
   "source": [
    "num_of_people = 4\n",
    "p = 0.4\n",
    "\n",
    "mean = num_of_people * p\n",
    "variance = num_of_people * p * (1 - p)\n",
    "std_dev = np.sqrt(variance)\n",
    "\n",
    "print(mean, variance, std_dev)\n"
   ]
  },
  {
   "cell_type": "markdown",
   "id": "755898d2-5e1b-437a-b120-8b8b634bcec3",
   "metadata": {},
   "source": [
    "**Задача 4:**\n",
    "Известно, что на сайте компании в час в среднем происходит 10 продаж. Какова вероятность того что в любой выбранный час количество продаж составит 8 штук?"
   ]
  },
  {
   "cell_type": "code",
   "execution_count": 11,
   "id": "d0ac9db6-1184-4565-9159-5b59beaa9eb9",
   "metadata": {},
   "outputs": [
    {
     "name": "stdout",
     "output_type": "stream",
     "text": [
      "0.11259978955201749\n"
     ]
    }
   ],
   "source": [
    "lambda_sale = 10\n",
    "num_of_sale = 8\n",
    "\n",
    "p = (lambda_sale**num_of_sale * 2.71828**(-lambda_sale)) / factorial(num_of_sale)\n",
    "\n",
    "print(p)\n"
   ]
  },
  {
   "cell_type": "markdown",
   "id": "5c09de7b-2851-4f5f-bfd0-31940f463231",
   "metadata": {},
   "source": [
    "**Задача 5:**\n",
    "Игрок в баскетбол исполняет успешно 60% штрафных бросков. Если он выполнит 12 штрафных бросков, какова вероятность того, что он попадёт в цель ровно 10 раз?"
   ]
  },
  {
   "cell_type": "code",
   "execution_count": 13,
   "id": "39847a9e-0833-4ef9-ae11-3af2c6bf67ad",
   "metadata": {},
   "outputs": [
    {
     "name": "stdout",
     "output_type": "stream",
     "text": [
      "0.06385228185599999\n"
     ]
    }
   ],
   "source": [
    "num_of_shots = 12  \n",
    "p_success = 0.6\n",
    "k_hits = 10 \n",
    "\n",
    "с_nk = factorial(num_of_shots) // (factorial(k_hits) * factorial(num_of_shots - k_hits))\n",
    "\n",
    "p = с_nk * (p_success ** k_hits) * ((1 - p_success) ** (num_of_shots - k_hits))\n",
    "\n",
    "print(p)"
   ]
  },
  {
   "cell_type": "code",
   "execution_count": null,
   "id": "cf35703f-f15b-4754-ad45-b42834c5df93",
   "metadata": {},
   "outputs": [],
   "source": []
  }
 ],
 "metadata": {
  "kernelspec": {
   "display_name": "Python 3 (ipykernel)",
   "language": "python",
   "name": "python3"
  },
  "language_info": {
   "codemirror_mode": {
    "name": "ipython",
    "version": 3
   },
   "file_extension": ".py",
   "mimetype": "text/x-python",
   "name": "python",
   "nbconvert_exporter": "python",
   "pygments_lexer": "ipython3",
   "version": "3.12.7"
  }
 },
 "nbformat": 4,
 "nbformat_minor": 5
}
