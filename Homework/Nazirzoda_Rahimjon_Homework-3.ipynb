{
 "cells": [
  {
   "cell_type": "markdown",
   "id": "64b9d0f7-c4a8-41da-9838-a285f8cd6f8c",
   "metadata": {},
   "source": [
    "**Назирзода Рахимджон**"
   ]
  },
  {
   "cell_type": "markdown",
   "id": "e681a311-36c3-4aef-aa2b-dbc4ee8bb57e",
   "metadata": {},
   "source": [
    "**Задание 1:**"
   ]
  },
  {
   "cell_type": "code",
   "execution_count": 3,
   "id": "371698fe-5f56-44b0-8a94-391b8ddf8317",
   "metadata": {},
   "outputs": [
    {
     "name": "stdin",
     "output_type": "stream",
     "text": [
      "Введите число:  4\n"
     ]
    },
    {
     "name": "stdout",
     "output_type": "stream",
     "text": [
      "Квадрат числа 1 равен 1\n",
      "Квадрат числа 2 равен 4\n",
      "Квадрат числа 3 равен 9\n",
      "Квадрат числа 4 равен 16\n"
     ]
    }
   ],
   "source": [
    "num = int(input('Введите число: '))\n",
    "for i in range(1, num + 1):\n",
    "    print(f'Квадрат числа {i} равен {i ** 2}')"
   ]
  },
  {
   "cell_type": "markdown",
   "id": "ce9e701b-e9fc-486f-8b50-8015cfe788d0",
   "metadata": {},
   "source": [
    "**Задание 2:**"
   ]
  },
  {
   "cell_type": "code",
   "execution_count": 129,
   "id": "36e70cd3-ed9c-4347-83c9-876e05de0241",
   "metadata": {},
   "outputs": [
    {
     "name": "stdin",
     "output_type": "stream",
     "text": [
      "Введите число:  5\n"
     ]
    },
    {
     "name": "stdout",
     "output_type": "stream",
     "text": [
      "5 x 1 = 5\n",
      "5 x 2 = 10\n",
      "5 x 3 = 15\n",
      "5 x 4 = 20\n",
      "5 x 5 = 25\n",
      "5 x 6 = 30\n",
      "5 x 7 = 35\n",
      "5 x 8 = 40\n",
      "5 x 9 = 45\n",
      "5 x 10 = 50\n"
     ]
    }
   ],
   "source": [
    "num = int(input('Введите число: '))\n",
    "count = 0\n",
    "for i in range(1, 11):\n",
    "    print(f'{num} x {i} = {num * i}')"
   ]
  },
  {
   "cell_type": "markdown",
   "id": "fc18cdd6-1f99-411d-b309-d2e0cb0268c6",
   "metadata": {},
   "source": [
    "**Задание 3:**"
   ]
  },
  {
   "cell_type": "code",
   "execution_count": 172,
   "id": "e171c9db-7738-4758-af20-05ed1a9ee885",
   "metadata": {},
   "outputs": [
    {
     "name": "stdin",
     "output_type": "stream",
     "text": [
      "Введите число:  5\n",
      "Введите число:  12\n"
     ]
    },
    {
     "name": "stdout",
     "output_type": "stream",
     "text": [
      "6\n",
      "8\n",
      "10\n"
     ]
    }
   ],
   "source": [
    "a = input('Введите число: ')\n",
    "b = input('Введите число: ')\n",
    "\n",
    "count = 0\n",
    "for i in range(5, 12):\n",
    "    if int(i) % 2 == 0:\n",
    "        print(f'{i}')"
   ]
  },
  {
   "cell_type": "markdown",
   "id": "c0f0d438-5d94-4bf7-a556-152bb5101fa5",
   "metadata": {},
   "source": [
    "**Задание 4:**"
   ]
  },
  {
   "cell_type": "code",
   "execution_count": 174,
   "id": "1358faae-fa17-42a6-ae2a-506d478d54a1",
   "metadata": {},
   "outputs": [
    {
     "name": "stdin",
     "output_type": "stream",
     "text": [
      "Введите число:  5\n",
      "Введите число:  10\n"
     ]
    },
    {
     "name": "stdout",
     "output_type": "stream",
     "text": [
      "45\n"
     ]
    }
   ],
   "source": [
    "a = input('Введите число: ')\n",
    "b = input('Введите число: ')\n",
    "\n",
    "count = 0\n",
    "for i in range(5, 11):\n",
    "    count = count + int(i)\n",
    "\n",
    "print(count)"
   ]
  },
  {
   "cell_type": "code",
   "execution_count": null,
   "id": "cef6ee06-4418-4906-8d17-e500a197ba65",
   "metadata": {},
   "outputs": [],
   "source": []
  }
 ],
 "metadata": {
  "kernelspec": {
   "display_name": "Python 3 (ipykernel)",
   "language": "python",
   "name": "python3"
  },
  "language_info": {
   "codemirror_mode": {
    "name": "ipython",
    "version": 3
   },
   "file_extension": ".py",
   "mimetype": "text/x-python",
   "name": "python",
   "nbconvert_exporter": "python",
   "pygments_lexer": "ipython3",
   "version": "3.12.7"
  }
 },
 "nbformat": 4,
 "nbformat_minor": 5
}
